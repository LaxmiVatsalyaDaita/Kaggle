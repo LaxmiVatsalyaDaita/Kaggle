{
 "cells": [
  {
   "cell_type": "markdown",
   "id": "15ab6f00",
   "metadata": {
    "papermill": {
     "duration": 0.004509,
     "end_time": "2023-08-25T05:08:47.622500",
     "exception": false,
     "start_time": "2023-08-25T05:08:47.617991",
     "status": "completed"
    },
    "tags": []
   },
   "source": [
    "**If you like my notebook, please don't forget to UPVOTE! You can also make a copy of my notebook to run your additional analysis.**"
   ]
  },
  {
   "cell_type": "code",
   "execution_count": 1,
   "id": "91cd9929",
   "metadata": {
    "_cell_guid": "b1076dfc-b9ad-4769-8c92-a6c4dae69d19",
    "_uuid": "8f2839f25d086af736a60e9eeb907d3b93b6e0e5",
    "execution": {
     "iopub.execute_input": "2023-08-25T05:08:47.632597Z",
     "iopub.status.busy": "2023-08-25T05:08:47.632135Z",
     "iopub.status.idle": "2023-08-25T05:08:47.654132Z",
     "shell.execute_reply": "2023-08-25T05:08:47.652965Z"
    },
    "papermill": {
     "duration": 0.030176,
     "end_time": "2023-08-25T05:08:47.656857",
     "exception": false,
     "start_time": "2023-08-25T05:08:47.626681",
     "status": "completed"
    },
    "tags": []
   },
   "outputs": [
    {
     "name": "stdout",
     "output_type": "stream",
     "text": [
      "/kaggle/input/cbse-result-statistics-class-xii-2023/class12-2023 (1).csv\n"
     ]
    }
   ],
   "source": [
    "# This Python 3 environment comes with many helpful analytics libraries installed\n",
    "# It is defined by the kaggle/python Docker image: https://github.com/kaggle/docker-python\n",
    "# For example, here's several helpful packages to load\n",
    "\n",
    "import numpy as np # linear algebra\n",
    "import pandas as pd # data processing, CSV file I/O (e.g. pd.read_csv)\n",
    "\n",
    "# Input data files are available in the read-only \"../input/\" directory\n",
    "# For example, running this (by clicking run or pressing Shift+Enter) will list all files under the input directory\n",
    "\n",
    "import os\n",
    "for dirname, _, filenames in os.walk('/kaggle/input'):\n",
    "    for filename in filenames:\n",
    "        print(os.path.join(dirname, filename))\n",
    "\n",
    "# You can write up to 20GB to the current directory (/kaggle/working/) that gets preserved as output when you create a version using \"Save & Run All\" \n",
    "# You can also write temporary files to /kaggle/temp/, but they won't be saved outside of the current session"
   ]
  },
  {
   "cell_type": "code",
   "execution_count": 2,
   "id": "9d54693f",
   "metadata": {
    "execution": {
     "iopub.execute_input": "2023-08-25T05:08:47.667351Z",
     "iopub.status.busy": "2023-08-25T05:08:47.666177Z",
     "iopub.status.idle": "2023-08-25T05:08:49.172872Z",
     "shell.execute_reply": "2023-08-25T05:08:49.171561Z"
    },
    "papermill": {
     "duration": 1.514841,
     "end_time": "2023-08-25T05:08:49.175706",
     "exception": false,
     "start_time": "2023-08-25T05:08:47.660865",
     "status": "completed"
    },
    "tags": []
   },
   "outputs": [
    {
     "name": "stderr",
     "output_type": "stream",
     "text": [
      "/opt/conda/lib/python3.10/site-packages/scipy/__init__.py:146: UserWarning: A NumPy version >=1.16.5 and <1.23.0 is required for this version of SciPy (detected version 1.23.5\n",
      "  warnings.warn(f\"A NumPy version >={np_minversion} and <{np_maxversion}\"\n"
     ]
    }
   ],
   "source": [
    "import matplotlib.pyplot as plt\n",
    "import seaborn as sns\n",
    "sns.set()"
   ]
  },
  {
   "cell_type": "code",
   "execution_count": 3,
   "id": "f6938853",
   "metadata": {
    "execution": {
     "iopub.execute_input": "2023-08-25T05:08:49.186403Z",
     "iopub.status.busy": "2023-08-25T05:08:49.185340Z",
     "iopub.status.idle": "2023-08-25T05:08:49.206651Z",
     "shell.execute_reply": "2023-08-25T05:08:49.205280Z"
    },
    "papermill": {
     "duration": 0.029723,
     "end_time": "2023-08-25T05:08:49.209711",
     "exception": false,
     "start_time": "2023-08-25T05:08:49.179988",
     "status": "completed"
    },
    "tags": []
   },
   "outputs": [],
   "source": [
    "data = pd.read_csv('/kaggle/input/cbse-result-statistics-class-xii-2023/class12-2023 (1).csv')"
   ]
  },
  {
   "cell_type": "code",
   "execution_count": 4,
   "id": "29684410",
   "metadata": {
    "execution": {
     "iopub.execute_input": "2023-08-25T05:08:49.219745Z",
     "iopub.status.busy": "2023-08-25T05:08:49.219343Z",
     "iopub.status.idle": "2023-08-25T05:08:49.246750Z",
     "shell.execute_reply": "2023-08-25T05:08:49.245479Z"
    },
    "papermill": {
     "duration": 0.035633,
     "end_time": "2023-08-25T05:08:49.249506",
     "exception": false,
     "start_time": "2023-08-25T05:08:49.213873",
     "status": "completed"
    },
    "tags": []
   },
   "outputs": [
    {
     "data": {
      "text/html": [
       "<div>\n",
       "<style scoped>\n",
       "    .dataframe tbody tr th:only-of-type {\n",
       "        vertical-align: middle;\n",
       "    }\n",
       "\n",
       "    .dataframe tbody tr th {\n",
       "        vertical-align: top;\n",
       "    }\n",
       "\n",
       "    .dataframe thead th {\n",
       "        text-align: right;\n",
       "    }\n",
       "</style>\n",
       "<table border=\"1\" class=\"dataframe\">\n",
       "  <thead>\n",
       "    <tr style=\"text-align: right;\">\n",
       "      <th></th>\n",
       "      <th>Class</th>\n",
       "      <th>Year</th>\n",
       "      <th>Region</th>\n",
       "      <th>Status</th>\n",
       "      <th>CTSA</th>\n",
       "      <th>GOVT</th>\n",
       "      <th>GOVT AIDED</th>\n",
       "      <th>INDEPENDENT</th>\n",
       "      <th>JNV</th>\n",
       "      <th>KV</th>\n",
       "    </tr>\n",
       "  </thead>\n",
       "  <tbody>\n",
       "    <tr>\n",
       "      <th>0</th>\n",
       "      <td>12</td>\n",
       "      <td>2023</td>\n",
       "      <td>Ajmer</td>\n",
       "      <td>Regd</td>\n",
       "      <td>0</td>\n",
       "      <td>4533</td>\n",
       "      <td>0</td>\n",
       "      <td>86178</td>\n",
       "      <td>3741</td>\n",
       "      <td>7736</td>\n",
       "    </tr>\n",
       "    <tr>\n",
       "      <th>1</th>\n",
       "      <td>12</td>\n",
       "      <td>2023</td>\n",
       "      <td>Ajmer</td>\n",
       "      <td>Appd</td>\n",
       "      <td>0</td>\n",
       "      <td>4524</td>\n",
       "      <td>0</td>\n",
       "      <td>85839</td>\n",
       "      <td>3730</td>\n",
       "      <td>7725</td>\n",
       "    </tr>\n",
       "    <tr>\n",
       "      <th>2</th>\n",
       "      <td>12</td>\n",
       "      <td>2023</td>\n",
       "      <td>Bhubaneswar</td>\n",
       "      <td>Regd</td>\n",
       "      <td>103</td>\n",
       "      <td>7746</td>\n",
       "      <td>0</td>\n",
       "      <td>69835</td>\n",
       "      <td>3823</td>\n",
       "      <td>11465</td>\n",
       "    </tr>\n",
       "    <tr>\n",
       "      <th>3</th>\n",
       "      <td>12</td>\n",
       "      <td>2023</td>\n",
       "      <td>Bhubaneswar</td>\n",
       "      <td>Appd</td>\n",
       "      <td>101</td>\n",
       "      <td>7688</td>\n",
       "      <td>0</td>\n",
       "      <td>69506</td>\n",
       "      <td>3809</td>\n",
       "      <td>11431</td>\n",
       "    </tr>\n",
       "    <tr>\n",
       "      <th>4</th>\n",
       "      <td>12</td>\n",
       "      <td>2023</td>\n",
       "      <td>Chandigarh</td>\n",
       "      <td>Regd</td>\n",
       "      <td>0</td>\n",
       "      <td>13060</td>\n",
       "      <td>55</td>\n",
       "      <td>89637</td>\n",
       "      <td>2549</td>\n",
       "      <td>5861</td>\n",
       "    </tr>\n",
       "  </tbody>\n",
       "</table>\n",
       "</div>"
      ],
      "text/plain": [
       "   Class  Year      Region  Status  CTSA   GOVT  GOVT AIDED  INDEPENDENT  \\\n",
       "0     12  2023        Ajmer   Regd     0   4533           0        86178   \n",
       "1     12  2023        Ajmer   Appd     0   4524           0        85839   \n",
       "2     12  2023  Bhubaneswar   Regd   103   7746           0        69835   \n",
       "3     12  2023  Bhubaneswar   Appd   101   7688           0        69506   \n",
       "4     12  2023   Chandigarh   Regd     0  13060          55        89637   \n",
       "\n",
       "    JNV     KV  \n",
       "0  3741   7736  \n",
       "1  3730   7725  \n",
       "2  3823  11465  \n",
       "3  3809  11431  \n",
       "4  2549   5861  "
      ]
     },
     "execution_count": 4,
     "metadata": {},
     "output_type": "execute_result"
    }
   ],
   "source": [
    "data.head()"
   ]
  },
  {
   "cell_type": "code",
   "execution_count": 5,
   "id": "5ba0c726",
   "metadata": {
    "execution": {
     "iopub.execute_input": "2023-08-25T05:08:49.261746Z",
     "iopub.status.busy": "2023-08-25T05:08:49.260329Z",
     "iopub.status.idle": "2023-08-25T05:08:49.286603Z",
     "shell.execute_reply": "2023-08-25T05:08:49.285301Z"
    },
    "papermill": {
     "duration": 0.035154,
     "end_time": "2023-08-25T05:08:49.289265",
     "exception": false,
     "start_time": "2023-08-25T05:08:49.254111",
     "status": "completed"
    },
    "tags": []
   },
   "outputs": [
    {
     "name": "stdout",
     "output_type": "stream",
     "text": [
      "<class 'pandas.core.frame.DataFrame'>\n",
      "RangeIndex: 32 entries, 0 to 31\n",
      "Data columns (total 10 columns):\n",
      " #   Column       Non-Null Count  Dtype \n",
      "---  ------       --------------  ----- \n",
      " 0   Class        32 non-null     int64 \n",
      " 1   Year         32 non-null     int64 \n",
      " 2   Region       32 non-null     object\n",
      " 3   Status       32 non-null     object\n",
      " 4   CTSA         32 non-null     int64 \n",
      " 5   GOVT         32 non-null     int64 \n",
      " 6   GOVT AIDED   32 non-null     int64 \n",
      " 7   INDEPENDENT  32 non-null     int64 \n",
      " 8   JNV          32 non-null     int64 \n",
      " 9   KV           32 non-null     int64 \n",
      "dtypes: int64(8), object(2)\n",
      "memory usage: 2.6+ KB\n"
     ]
    }
   ],
   "source": [
    "data.info()"
   ]
  },
  {
   "cell_type": "code",
   "execution_count": 6,
   "id": "76f9a076",
   "metadata": {
    "execution": {
     "iopub.execute_input": "2023-08-25T05:08:49.300300Z",
     "iopub.status.busy": "2023-08-25T05:08:49.299852Z",
     "iopub.status.idle": "2023-08-25T05:08:49.309609Z",
     "shell.execute_reply": "2023-08-25T05:08:49.308538Z"
    },
    "papermill": {
     "duration": 0.018036,
     "end_time": "2023-08-25T05:08:49.311920",
     "exception": false,
     "start_time": "2023-08-25T05:08:49.293884",
     "status": "completed"
    },
    "tags": []
   },
   "outputs": [
    {
     "data": {
      "text/plain": [
       "Class          0\n",
       "Year           0\n",
       "Region         0\n",
       "Status         0\n",
       "CTSA           0\n",
       "GOVT           0\n",
       "GOVT AIDED     0\n",
       "INDEPENDENT    0\n",
       "JNV            0\n",
       "KV             0\n",
       "dtype: int64"
      ]
     },
     "execution_count": 6,
     "metadata": {},
     "output_type": "execute_result"
    }
   ],
   "source": [
    "data.isnull().sum()"
   ]
  },
  {
   "cell_type": "code",
   "execution_count": 7,
   "id": "63e46831",
   "metadata": {
    "execution": {
     "iopub.execute_input": "2023-08-25T05:08:49.323534Z",
     "iopub.status.busy": "2023-08-25T05:08:49.322772Z",
     "iopub.status.idle": "2023-08-25T05:08:49.329057Z",
     "shell.execute_reply": "2023-08-25T05:08:49.328257Z"
    },
    "papermill": {
     "duration": 0.014444,
     "end_time": "2023-08-25T05:08:49.331191",
     "exception": false,
     "start_time": "2023-08-25T05:08:49.316747",
     "status": "completed"
    },
    "tags": []
   },
   "outputs": [
    {
     "data": {
      "text/plain": [
       "array(['Ajmer', 'Bhubaneswar', 'Chandigarh', 'Delhi East', 'Pune',\n",
       "       'Guwahati', 'Panchkula', 'Bengaluru', 'Bhopal', 'Chennai', 'Noida',\n",
       "       'Patna', 'Prayagraj', 'Trivandrum', 'Dehradun', 'Delhi West'],\n",
       "      dtype=object)"
      ]
     },
     "execution_count": 7,
     "metadata": {},
     "output_type": "execute_result"
    }
   ],
   "source": [
    "data['Region '].unique()"
   ]
  },
  {
   "cell_type": "code",
   "execution_count": 8,
   "id": "a454237d",
   "metadata": {
    "execution": {
     "iopub.execute_input": "2023-08-25T05:08:49.342751Z",
     "iopub.status.busy": "2023-08-25T05:08:49.342329Z",
     "iopub.status.idle": "2023-08-25T05:08:49.350158Z",
     "shell.execute_reply": "2023-08-25T05:08:49.348983Z"
    },
    "papermill": {
     "duration": 0.016469,
     "end_time": "2023-08-25T05:08:49.352650",
     "exception": false,
     "start_time": "2023-08-25T05:08:49.336181",
     "status": "completed"
    },
    "tags": []
   },
   "outputs": [
    {
     "data": {
      "text/plain": [
       "array(['Regd', 'Appd'], dtype=object)"
      ]
     },
     "execution_count": 8,
     "metadata": {},
     "output_type": "execute_result"
    }
   ],
   "source": [
    "data['Status'].unique()"
   ]
  }
 ],
 "metadata": {
  "kernelspec": {
   "display_name": "Python 3",
   "language": "python",
   "name": "python3"
  },
  "language_info": {
   "codemirror_mode": {
    "name": "ipython",
    "version": 3
   },
   "file_extension": ".py",
   "mimetype": "text/x-python",
   "name": "python",
   "nbconvert_exporter": "python",
   "pygments_lexer": "ipython3",
   "version": "3.10.12"
  },
  "papermill": {
   "default_parameters": {},
   "duration": 14.478421,
   "end_time": "2023-08-25T05:08:50.380865",
   "environment_variables": {},
   "exception": null,
   "input_path": "__notebook__.ipynb",
   "output_path": "__notebook__.ipynb",
   "parameters": {},
   "start_time": "2023-08-25T05:08:35.902444",
   "version": "2.4.0"
  }
 },
 "nbformat": 4,
 "nbformat_minor": 5
}
