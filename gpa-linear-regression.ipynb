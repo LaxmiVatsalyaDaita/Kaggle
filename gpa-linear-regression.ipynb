{
 "cells": [
  {
   "cell_type": "code",
   "execution_count": 1,
   "id": "0ca49fa3",
   "metadata": {
    "_cell_guid": "b1076dfc-b9ad-4769-8c92-a6c4dae69d19",
    "_uuid": "8f2839f25d086af736a60e9eeb907d3b93b6e0e5",
    "execution": {
     "iopub.execute_input": "2023-08-10T07:27:19.509924Z",
     "iopub.status.busy": "2023-08-10T07:27:19.509372Z",
     "iopub.status.idle": "2023-08-10T07:27:19.534742Z",
     "shell.execute_reply": "2023-08-10T07:27:19.533092Z"
    },
    "papermill": {
     "duration": 0.034008,
     "end_time": "2023-08-10T07:27:19.537380",
     "exception": false,
     "start_time": "2023-08-10T07:27:19.503372",
     "status": "completed"
    },
    "tags": []
   },
   "outputs": [
    {
     "name": "stdout",
     "output_type": "stream",
     "text": [
      "/kaggle/input/gpa-and-iq/gpa_iq.csv\n"
     ]
    }
   ],
   "source": [
    "# This Python 3 environment comes with many helpful analytics libraries installed\n",
    "# It is defined by the kaggle/python Docker image: https://github.com/kaggle/docker-python\n",
    "# For example, here's several helpful packages to load\n",
    "\n",
    "import numpy as np # linear algebra\n",
    "import pandas as pd # data processing, CSV file I/O (e.g. pd.read_csv)\n",
    "\n",
    "# Input data files are available in the read-only \"../input/\" directory\n",
    "# For example, running this (by clicking run or pressing Shift+Enter) will list all files under the input directory\n",
    "\n",
    "import os\n",
    "for dirname, _, filenames in os.walk('/kaggle/input'):\n",
    "    for filename in filenames:\n",
    "        print(os.path.join(dirname, filename))\n",
    "\n",
    "# You can write up to 20GB to the current directory (/kaggle/working/) that gets preserved as output when you create a version using \"Save & Run All\" \n",
    "# You can also write temporary files to /kaggle/temp/, but they won't be saved outside of the current session"
   ]
  },
  {
   "cell_type": "code",
   "execution_count": 2,
   "id": "aa8c5f1d",
   "metadata": {
    "execution": {
     "iopub.execute_input": "2023-08-10T07:27:19.547789Z",
     "iopub.status.busy": "2023-08-10T07:27:19.546351Z",
     "iopub.status.idle": "2023-08-10T07:27:19.569960Z",
     "shell.execute_reply": "2023-08-10T07:27:19.568692Z"
    },
    "papermill": {
     "duration": 0.031699,
     "end_time": "2023-08-10T07:27:19.572849",
     "exception": false,
     "start_time": "2023-08-10T07:27:19.541150",
     "status": "completed"
    },
    "tags": []
   },
   "outputs": [],
   "source": [
    "data = pd.read_csv('/kaggle/input/gpa-and-iq/gpa_iq.csv')"
   ]
  },
  {
   "cell_type": "code",
   "execution_count": 3,
   "id": "9aa3202f",
   "metadata": {
    "execution": {
     "iopub.execute_input": "2023-08-10T07:27:19.581813Z",
     "iopub.status.busy": "2023-08-10T07:27:19.581436Z",
     "iopub.status.idle": "2023-08-10T07:27:19.615076Z",
     "shell.execute_reply": "2023-08-10T07:27:19.613615Z"
    },
    "papermill": {
     "duration": 0.041494,
     "end_time": "2023-08-10T07:27:19.617880",
     "exception": false,
     "start_time": "2023-08-10T07:27:19.576386",
     "status": "completed"
    },
    "tags": []
   },
   "outputs": [
    {
     "data": {
      "text/html": [
       "<div>\n",
       "<style scoped>\n",
       "    .dataframe tbody tr th:only-of-type {\n",
       "        vertical-align: middle;\n",
       "    }\n",
       "\n",
       "    .dataframe tbody tr th {\n",
       "        vertical-align: top;\n",
       "    }\n",
       "\n",
       "    .dataframe thead th {\n",
       "        text-align: right;\n",
       "    }\n",
       "</style>\n",
       "<table border=\"1\" class=\"dataframe\">\n",
       "  <thead>\n",
       "    <tr style=\"text-align: right;\">\n",
       "      <th></th>\n",
       "      <th>obs</th>\n",
       "      <th>gpa</th>\n",
       "      <th>iq</th>\n",
       "      <th>gender</th>\n",
       "      <th>concept</th>\n",
       "    </tr>\n",
       "  </thead>\n",
       "  <tbody>\n",
       "    <tr>\n",
       "      <th>0</th>\n",
       "      <td>1</td>\n",
       "      <td>7.940</td>\n",
       "      <td>111</td>\n",
       "      <td>2</td>\n",
       "      <td>67</td>\n",
       "    </tr>\n",
       "    <tr>\n",
       "      <th>1</th>\n",
       "      <td>2</td>\n",
       "      <td>8.292</td>\n",
       "      <td>107</td>\n",
       "      <td>2</td>\n",
       "      <td>43</td>\n",
       "    </tr>\n",
       "    <tr>\n",
       "      <th>2</th>\n",
       "      <td>3</td>\n",
       "      <td>4.643</td>\n",
       "      <td>100</td>\n",
       "      <td>2</td>\n",
       "      <td>52</td>\n",
       "    </tr>\n",
       "    <tr>\n",
       "      <th>3</th>\n",
       "      <td>4</td>\n",
       "      <td>7.470</td>\n",
       "      <td>107</td>\n",
       "      <td>2</td>\n",
       "      <td>66</td>\n",
       "    </tr>\n",
       "    <tr>\n",
       "      <th>4</th>\n",
       "      <td>5</td>\n",
       "      <td>8.882</td>\n",
       "      <td>114</td>\n",
       "      <td>1</td>\n",
       "      <td>58</td>\n",
       "    </tr>\n",
       "    <tr>\n",
       "      <th>...</th>\n",
       "      <td>...</td>\n",
       "      <td>...</td>\n",
       "      <td>...</td>\n",
       "      <td>...</td>\n",
       "      <td>...</td>\n",
       "    </tr>\n",
       "    <tr>\n",
       "      <th>73</th>\n",
       "      <td>85</td>\n",
       "      <td>9.000</td>\n",
       "      <td>112</td>\n",
       "      <td>1</td>\n",
       "      <td>60</td>\n",
       "    </tr>\n",
       "    <tr>\n",
       "      <th>74</th>\n",
       "      <td>86</td>\n",
       "      <td>9.500</td>\n",
       "      <td>112</td>\n",
       "      <td>1</td>\n",
       "      <td>70</td>\n",
       "    </tr>\n",
       "    <tr>\n",
       "      <th>75</th>\n",
       "      <td>87</td>\n",
       "      <td>6.057</td>\n",
       "      <td>114</td>\n",
       "      <td>2</td>\n",
       "      <td>51</td>\n",
       "    </tr>\n",
       "    <tr>\n",
       "      <th>76</th>\n",
       "      <td>88</td>\n",
       "      <td>6.057</td>\n",
       "      <td>93</td>\n",
       "      <td>1</td>\n",
       "      <td>21</td>\n",
       "    </tr>\n",
       "    <tr>\n",
       "      <th>77</th>\n",
       "      <td>89</td>\n",
       "      <td>6.938</td>\n",
       "      <td>106</td>\n",
       "      <td>2</td>\n",
       "      <td>56</td>\n",
       "    </tr>\n",
       "  </tbody>\n",
       "</table>\n",
       "<p>78 rows × 5 columns</p>\n",
       "</div>"
      ],
      "text/plain": [
       "    obs    gpa   iq  gender  concept\n",
       "0     1  7.940  111       2       67\n",
       "1     2  8.292  107       2       43\n",
       "2     3  4.643  100       2       52\n",
       "3     4  7.470  107       2       66\n",
       "4     5  8.882  114       1       58\n",
       "..  ...    ...  ...     ...      ...\n",
       "73   85  9.000  112       1       60\n",
       "74   86  9.500  112       1       70\n",
       "75   87  6.057  114       2       51\n",
       "76   88  6.057   93       1       21\n",
       "77   89  6.938  106       2       56\n",
       "\n",
       "[78 rows x 5 columns]"
      ]
     },
     "execution_count": 3,
     "metadata": {},
     "output_type": "execute_result"
    }
   ],
   "source": [
    "data"
   ]
  },
  {
   "cell_type": "code",
   "execution_count": 4,
   "id": "f3118d83",
   "metadata": {
    "execution": {
     "iopub.execute_input": "2023-08-10T07:27:19.627934Z",
     "iopub.status.busy": "2023-08-10T07:27:19.627439Z",
     "iopub.status.idle": "2023-08-10T07:27:19.642744Z",
     "shell.execute_reply": "2023-08-10T07:27:19.641286Z"
    },
    "papermill": {
     "duration": 0.023622,
     "end_time": "2023-08-10T07:27:19.645430",
     "exception": false,
     "start_time": "2023-08-10T07:27:19.621808",
     "status": "completed"
    },
    "tags": []
   },
   "outputs": [
    {
     "data": {
      "text/plain": [
       "0"
      ]
     },
     "execution_count": 4,
     "metadata": {},
     "output_type": "execute_result"
    }
   ],
   "source": [
    "data.duplicated().sum()"
   ]
  },
  {
   "cell_type": "code",
   "execution_count": 5,
   "id": "42e3248e",
   "metadata": {
    "execution": {
     "iopub.execute_input": "2023-08-10T07:27:19.655396Z",
     "iopub.status.busy": "2023-08-10T07:27:19.654948Z",
     "iopub.status.idle": "2023-08-10T07:27:19.665974Z",
     "shell.execute_reply": "2023-08-10T07:27:19.664686Z"
    },
    "papermill": {
     "duration": 0.018971,
     "end_time": "2023-08-10T07:27:19.668533",
     "exception": false,
     "start_time": "2023-08-10T07:27:19.649562",
     "status": "completed"
    },
    "tags": []
   },
   "outputs": [
    {
     "data": {
      "text/plain": [
       "obs        0\n",
       "gpa        0\n",
       "iq         0\n",
       "gender     0\n",
       "concept    0\n",
       "dtype: int64"
      ]
     },
     "execution_count": 5,
     "metadata": {},
     "output_type": "execute_result"
    }
   ],
   "source": [
    "data.isnull().sum()"
   ]
  },
  {
   "cell_type": "code",
   "execution_count": 6,
   "id": "50c2e807",
   "metadata": {
    "execution": {
     "iopub.execute_input": "2023-08-10T07:27:19.679110Z",
     "iopub.status.busy": "2023-08-10T07:27:19.678667Z",
     "iopub.status.idle": "2023-08-10T07:27:19.697552Z",
     "shell.execute_reply": "2023-08-10T07:27:19.696295Z"
    },
    "papermill": {
     "duration": 0.028171,
     "end_time": "2023-08-10T07:27:19.700884",
     "exception": false,
     "start_time": "2023-08-10T07:27:19.672713",
     "status": "completed"
    },
    "tags": []
   },
   "outputs": [
    {
     "data": {
      "text/html": [
       "<div>\n",
       "<style scoped>\n",
       "    .dataframe tbody tr th:only-of-type {\n",
       "        vertical-align: middle;\n",
       "    }\n",
       "\n",
       "    .dataframe tbody tr th {\n",
       "        vertical-align: top;\n",
       "    }\n",
       "\n",
       "    .dataframe thead th {\n",
       "        text-align: right;\n",
       "    }\n",
       "</style>\n",
       "<table border=\"1\" class=\"dataframe\">\n",
       "  <thead>\n",
       "    <tr style=\"text-align: right;\">\n",
       "      <th></th>\n",
       "      <th>gpa</th>\n",
       "      <th>iq</th>\n",
       "      <th>gender</th>\n",
       "      <th>concept</th>\n",
       "    </tr>\n",
       "  </thead>\n",
       "  <tbody>\n",
       "    <tr>\n",
       "      <th>0</th>\n",
       "      <td>7.940</td>\n",
       "      <td>111</td>\n",
       "      <td>2</td>\n",
       "      <td>67</td>\n",
       "    </tr>\n",
       "    <tr>\n",
       "      <th>1</th>\n",
       "      <td>8.292</td>\n",
       "      <td>107</td>\n",
       "      <td>2</td>\n",
       "      <td>43</td>\n",
       "    </tr>\n",
       "    <tr>\n",
       "      <th>2</th>\n",
       "      <td>4.643</td>\n",
       "      <td>100</td>\n",
       "      <td>2</td>\n",
       "      <td>52</td>\n",
       "    </tr>\n",
       "    <tr>\n",
       "      <th>3</th>\n",
       "      <td>7.470</td>\n",
       "      <td>107</td>\n",
       "      <td>2</td>\n",
       "      <td>66</td>\n",
       "    </tr>\n",
       "    <tr>\n",
       "      <th>4</th>\n",
       "      <td>8.882</td>\n",
       "      <td>114</td>\n",
       "      <td>1</td>\n",
       "      <td>58</td>\n",
       "    </tr>\n",
       "    <tr>\n",
       "      <th>...</th>\n",
       "      <td>...</td>\n",
       "      <td>...</td>\n",
       "      <td>...</td>\n",
       "      <td>...</td>\n",
       "    </tr>\n",
       "    <tr>\n",
       "      <th>73</th>\n",
       "      <td>9.000</td>\n",
       "      <td>112</td>\n",
       "      <td>1</td>\n",
       "      <td>60</td>\n",
       "    </tr>\n",
       "    <tr>\n",
       "      <th>74</th>\n",
       "      <td>9.500</td>\n",
       "      <td>112</td>\n",
       "      <td>1</td>\n",
       "      <td>70</td>\n",
       "    </tr>\n",
       "    <tr>\n",
       "      <th>75</th>\n",
       "      <td>6.057</td>\n",
       "      <td>114</td>\n",
       "      <td>2</td>\n",
       "      <td>51</td>\n",
       "    </tr>\n",
       "    <tr>\n",
       "      <th>76</th>\n",
       "      <td>6.057</td>\n",
       "      <td>93</td>\n",
       "      <td>1</td>\n",
       "      <td>21</td>\n",
       "    </tr>\n",
       "    <tr>\n",
       "      <th>77</th>\n",
       "      <td>6.938</td>\n",
       "      <td>106</td>\n",
       "      <td>2</td>\n",
       "      <td>56</td>\n",
       "    </tr>\n",
       "  </tbody>\n",
       "</table>\n",
       "<p>78 rows × 4 columns</p>\n",
       "</div>"
      ],
      "text/plain": [
       "      gpa   iq  gender  concept\n",
       "0   7.940  111       2       67\n",
       "1   8.292  107       2       43\n",
       "2   4.643  100       2       52\n",
       "3   7.470  107       2       66\n",
       "4   8.882  114       1       58\n",
       "..    ...  ...     ...      ...\n",
       "73  9.000  112       1       60\n",
       "74  9.500  112       1       70\n",
       "75  6.057  114       2       51\n",
       "76  6.057   93       1       21\n",
       "77  6.938  106       2       56\n",
       "\n",
       "[78 rows x 4 columns]"
      ]
     },
     "execution_count": 6,
     "metadata": {},
     "output_type": "execute_result"
    }
   ],
   "source": [
    "data = data.drop(['obs'],axis=1)\n",
    "data"
   ]
  },
  {
   "cell_type": "code",
   "execution_count": null,
   "id": "031a526a",
   "metadata": {
    "papermill": {
     "duration": 0.004418,
     "end_time": "2023-08-10T07:27:19.710269",
     "exception": false,
     "start_time": "2023-08-10T07:27:19.705851",
     "status": "completed"
    },
    "tags": []
   },
   "outputs": [],
   "source": []
  }
 ],
 "metadata": {
  "kernelspec": {
   "display_name": "Python 3",
   "language": "python",
   "name": "python3"
  },
  "language_info": {
   "codemirror_mode": {
    "name": "ipython",
    "version": 3
   },
   "file_extension": ".py",
   "mimetype": "text/x-python",
   "name": "python",
   "nbconvert_exporter": "python",
   "pygments_lexer": "ipython3",
   "version": "3.10.12"
  },
  "papermill": {
   "default_parameters": {},
   "duration": 13.376719,
   "end_time": "2023-08-10T07:27:20.640020",
   "environment_variables": {},
   "exception": null,
   "input_path": "__notebook__.ipynb",
   "output_path": "__notebook__.ipynb",
   "parameters": {},
   "start_time": "2023-08-10T07:27:07.263301",
   "version": "2.4.0"
  }
 },
 "nbformat": 4,
 "nbformat_minor": 5
}
