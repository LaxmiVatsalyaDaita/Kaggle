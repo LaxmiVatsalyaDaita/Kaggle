{
 "cells": [
  {
   "cell_type": "markdown",
   "id": "6fe59ec5",
   "metadata": {
    "papermill": {
     "duration": 0.007839,
     "end_time": "2023-08-04T07:12:30.025156",
     "exception": false,
     "start_time": "2023-08-04T07:12:30.017317",
     "status": "completed"
    },
    "tags": []
   },
   "source": [
    "**If you like my notebook, please don't forget to upvote! You can also make a copy of my notebook and edit to run your additional analysis.**"
   ]
  },
  {
   "cell_type": "code",
   "execution_count": 1,
   "id": "6a97f98e",
   "metadata": {
    "_cell_guid": "b1076dfc-b9ad-4769-8c92-a6c4dae69d19",
    "_uuid": "8f2839f25d086af736a60e9eeb907d3b93b6e0e5",
    "execution": {
     "iopub.execute_input": "2023-08-04T07:12:30.041341Z",
     "iopub.status.busy": "2023-08-04T07:12:30.040768Z",
     "iopub.status.idle": "2023-08-04T07:12:30.066978Z",
     "shell.execute_reply": "2023-08-04T07:12:30.065653Z"
    },
    "papermill": {
     "duration": 0.03765,
     "end_time": "2023-08-04T07:12:30.069913",
     "exception": false,
     "start_time": "2023-08-04T07:12:30.032263",
     "status": "completed"
    },
    "tags": []
   },
   "outputs": [
    {
     "name": "stdout",
     "output_type": "stream",
     "text": [
      "/kaggle/input/medical-students-dataset/medical_students_dataset.csv\n"
     ]
    }
   ],
   "source": [
    "# This Python 3 environment comes with many helpful analytics libraries installed\n",
    "# It is defined by the kaggle/python Docker image: https://github.com/kaggle/docker-python\n",
    "# For example, here's several helpful packages to load\n",
    "\n",
    "import numpy as np # linear algebra\n",
    "import pandas as pd # data processing, CSV file I/O (e.g. pd.read_csv)\n",
    "\n",
    "# Input data files are available in the read-only \"../input/\" directory\n",
    "# For example, running this (by clicking run or pressing Shift+Enter) will list all files under the input directory\n",
    "\n",
    "import os\n",
    "for dirname, _, filenames in os.walk('/kaggle/input'):\n",
    "    for filename in filenames:\n",
    "        print(os.path.join(dirname, filename))\n",
    "\n",
    "# You can write up to 20GB to the current directory (/kaggle/working/) that gets preserved as output when you create a version using \"Save & Run All\" \n",
    "# You can also write temporary files to /kaggle/temp/, but they won't be saved outside of the current session"
   ]
  },
  {
   "cell_type": "code",
   "execution_count": 2,
   "id": "66e34c7c",
   "metadata": {
    "execution": {
     "iopub.execute_input": "2023-08-04T07:12:30.085452Z",
     "iopub.status.busy": "2023-08-04T07:12:30.085046Z",
     "iopub.status.idle": "2023-08-04T07:12:31.654564Z",
     "shell.execute_reply": "2023-08-04T07:12:31.653612Z"
    },
    "papermill": {
     "duration": 1.58043,
     "end_time": "2023-08-04T07:12:31.657346",
     "exception": false,
     "start_time": "2023-08-04T07:12:30.076916",
     "status": "completed"
    },
    "tags": []
   },
   "outputs": [
    {
     "name": "stderr",
     "output_type": "stream",
     "text": [
      "/opt/conda/lib/python3.10/site-packages/scipy/__init__.py:146: UserWarning: A NumPy version >=1.16.5 and <1.23.0 is required for this version of SciPy (detected version 1.23.5\n",
      "  warnings.warn(f\"A NumPy version >={np_minversion} and <{np_maxversion}\"\n"
     ]
    }
   ],
   "source": [
    "import matplotlib.pyplot as plt\n",
    "import seaborn as sns\n",
    "sns.set()"
   ]
  },
  {
   "cell_type": "markdown",
   "id": "c4b830e6",
   "metadata": {
    "papermill": {
     "duration": 0.006686,
     "end_time": "2023-08-04T07:12:31.671089",
     "exception": false,
     "start_time": "2023-08-04T07:12:31.664403",
     "status": "completed"
    },
    "tags": []
   },
   "source": [
    "# Importing Dataset"
   ]
  },
  {
   "cell_type": "code",
   "execution_count": 3,
   "id": "fbed3802",
   "metadata": {
    "execution": {
     "iopub.execute_input": "2023-08-04T07:12:31.687704Z",
     "iopub.status.busy": "2023-08-04T07:12:31.686501Z",
     "iopub.status.idle": "2023-08-04T07:12:32.459493Z",
     "shell.execute_reply": "2023-08-04T07:12:32.458078Z"
    },
    "papermill": {
     "duration": 0.784193,
     "end_time": "2023-08-04T07:12:32.462315",
     "exception": false,
     "start_time": "2023-08-04T07:12:31.678122",
     "status": "completed"
    },
    "tags": []
   },
   "outputs": [
    {
     "data": {
      "text/html": [
       "<div>\n",
       "<style scoped>\n",
       "    .dataframe tbody tr th:only-of-type {\n",
       "        vertical-align: middle;\n",
       "    }\n",
       "\n",
       "    .dataframe tbody tr th {\n",
       "        vertical-align: top;\n",
       "    }\n",
       "\n",
       "    .dataframe thead th {\n",
       "        text-align: right;\n",
       "    }\n",
       "</style>\n",
       "<table border=\"1\" class=\"dataframe\">\n",
       "  <thead>\n",
       "    <tr style=\"text-align: right;\">\n",
       "      <th></th>\n",
       "      <th>Student ID</th>\n",
       "      <th>Age</th>\n",
       "      <th>Gender</th>\n",
       "      <th>Height</th>\n",
       "      <th>Weight</th>\n",
       "      <th>Blood Type</th>\n",
       "      <th>BMI</th>\n",
       "      <th>Temperature</th>\n",
       "      <th>Heart Rate</th>\n",
       "      <th>Blood Pressure</th>\n",
       "      <th>Cholesterol</th>\n",
       "      <th>Diabetes</th>\n",
       "      <th>Smoking</th>\n",
       "    </tr>\n",
       "  </thead>\n",
       "  <tbody>\n",
       "    <tr>\n",
       "      <th>0</th>\n",
       "      <td>1.0</td>\n",
       "      <td>18.0</td>\n",
       "      <td>Female</td>\n",
       "      <td>161.777924</td>\n",
       "      <td>72.354947</td>\n",
       "      <td>O</td>\n",
       "      <td>27.645835</td>\n",
       "      <td>NaN</td>\n",
       "      <td>95.0</td>\n",
       "      <td>109.0</td>\n",
       "      <td>203.0</td>\n",
       "      <td>No</td>\n",
       "      <td>NaN</td>\n",
       "    </tr>\n",
       "    <tr>\n",
       "      <th>1</th>\n",
       "      <td>2.0</td>\n",
       "      <td>NaN</td>\n",
       "      <td>Male</td>\n",
       "      <td>152.069157</td>\n",
       "      <td>47.630941</td>\n",
       "      <td>B</td>\n",
       "      <td>NaN</td>\n",
       "      <td>98.714977</td>\n",
       "      <td>93.0</td>\n",
       "      <td>104.0</td>\n",
       "      <td>163.0</td>\n",
       "      <td>No</td>\n",
       "      <td>No</td>\n",
       "    </tr>\n",
       "    <tr>\n",
       "      <th>2</th>\n",
       "      <td>3.0</td>\n",
       "      <td>32.0</td>\n",
       "      <td>Female</td>\n",
       "      <td>182.537664</td>\n",
       "      <td>55.741083</td>\n",
       "      <td>A</td>\n",
       "      <td>16.729017</td>\n",
       "      <td>98.260293</td>\n",
       "      <td>76.0</td>\n",
       "      <td>130.0</td>\n",
       "      <td>216.0</td>\n",
       "      <td>Yes</td>\n",
       "      <td>No</td>\n",
       "    </tr>\n",
       "    <tr>\n",
       "      <th>3</th>\n",
       "      <td>NaN</td>\n",
       "      <td>30.0</td>\n",
       "      <td>Male</td>\n",
       "      <td>182.112867</td>\n",
       "      <td>63.332207</td>\n",
       "      <td>B</td>\n",
       "      <td>19.096042</td>\n",
       "      <td>98.839605</td>\n",
       "      <td>99.0</td>\n",
       "      <td>112.0</td>\n",
       "      <td>141.0</td>\n",
       "      <td>No</td>\n",
       "      <td>Yes</td>\n",
       "    </tr>\n",
       "    <tr>\n",
       "      <th>4</th>\n",
       "      <td>5.0</td>\n",
       "      <td>23.0</td>\n",
       "      <td>Female</td>\n",
       "      <td>NaN</td>\n",
       "      <td>46.234173</td>\n",
       "      <td>O</td>\n",
       "      <td>NaN</td>\n",
       "      <td>98.480008</td>\n",
       "      <td>95.0</td>\n",
       "      <td>NaN</td>\n",
       "      <td>231.0</td>\n",
       "      <td>No</td>\n",
       "      <td>No</td>\n",
       "    </tr>\n",
       "  </tbody>\n",
       "</table>\n",
       "</div>"
      ],
      "text/plain": [
       "   Student ID   Age  Gender      Height     Weight Blood Type        BMI  \\\n",
       "0         1.0  18.0  Female  161.777924  72.354947          O  27.645835   \n",
       "1         2.0   NaN    Male  152.069157  47.630941          B        NaN   \n",
       "2         3.0  32.0  Female  182.537664  55.741083          A  16.729017   \n",
       "3         NaN  30.0    Male  182.112867  63.332207          B  19.096042   \n",
       "4         5.0  23.0  Female         NaN  46.234173          O        NaN   \n",
       "\n",
       "   Temperature  Heart Rate  Blood Pressure  Cholesterol Diabetes Smoking  \n",
       "0          NaN        95.0           109.0        203.0       No     NaN  \n",
       "1    98.714977        93.0           104.0        163.0       No      No  \n",
       "2    98.260293        76.0           130.0        216.0      Yes      No  \n",
       "3    98.839605        99.0           112.0        141.0       No     Yes  \n",
       "4    98.480008        95.0             NaN        231.0       No      No  "
      ]
     },
     "execution_count": 3,
     "metadata": {},
     "output_type": "execute_result"
    }
   ],
   "source": [
    "raw_data = pd.read_csv('/kaggle/input/medical-students-dataset/medical_students_dataset.csv')\n",
    "raw_data.head()"
   ]
  },
  {
   "cell_type": "code",
   "execution_count": 4,
   "id": "9af60d8d",
   "metadata": {
    "execution": {
     "iopub.execute_input": "2023-08-04T07:12:32.479557Z",
     "iopub.status.busy": "2023-08-04T07:12:32.478480Z",
     "iopub.status.idle": "2023-08-04T07:12:32.486720Z",
     "shell.execute_reply": "2023-08-04T07:12:32.485313Z"
    },
    "papermill": {
     "duration": 0.019333,
     "end_time": "2023-08-04T07:12:32.489150",
     "exception": false,
     "start_time": "2023-08-04T07:12:32.469817",
     "status": "completed"
    },
    "tags": []
   },
   "outputs": [
    {
     "data": {
      "text/plain": [
       "(200000, 13)"
      ]
     },
     "execution_count": 4,
     "metadata": {},
     "output_type": "execute_result"
    }
   ],
   "source": [
    "raw_data.shape"
   ]
  },
  {
   "cell_type": "code",
   "execution_count": 5,
   "id": "d780a39a",
   "metadata": {
    "execution": {
     "iopub.execute_input": "2023-08-04T07:12:32.509300Z",
     "iopub.status.busy": "2023-08-04T07:12:32.508352Z",
     "iopub.status.idle": "2023-08-04T07:12:32.517314Z",
     "shell.execute_reply": "2023-08-04T07:12:32.515830Z"
    },
    "papermill": {
     "duration": 0.023944,
     "end_time": "2023-08-04T07:12:32.520586",
     "exception": false,
     "start_time": "2023-08-04T07:12:32.496642",
     "status": "completed"
    },
    "tags": []
   },
   "outputs": [
    {
     "data": {
      "text/plain": [
       "array(['Student ID', 'Age', 'Gender', 'Height', 'Weight', 'Blood Type',\n",
       "       'BMI', 'Temperature', 'Heart Rate', 'Blood Pressure',\n",
       "       'Cholesterol', 'Diabetes', 'Smoking'], dtype=object)"
      ]
     },
     "execution_count": 5,
     "metadata": {},
     "output_type": "execute_result"
    }
   ],
   "source": [
    "raw_data.columns.values"
   ]
  },
  {
   "cell_type": "markdown",
   "id": "452d5caf",
   "metadata": {
    "papermill": {
     "duration": 0.007733,
     "end_time": "2023-08-04T07:12:32.536031",
     "exception": false,
     "start_time": "2023-08-04T07:12:32.528298",
     "status": "completed"
    },
    "tags": []
   },
   "source": [
    "It is always good to make a copy of our data before working on it."
   ]
  },
  {
   "cell_type": "code",
   "execution_count": 6,
   "id": "841f23cb",
   "metadata": {
    "execution": {
     "iopub.execute_input": "2023-08-04T07:12:32.554457Z",
     "iopub.status.busy": "2023-08-04T07:12:32.554015Z",
     "iopub.status.idle": "2023-08-04T07:12:32.582229Z",
     "shell.execute_reply": "2023-08-04T07:12:32.580782Z"
    },
    "papermill": {
     "duration": 0.03972,
     "end_time": "2023-08-04T07:12:32.584808",
     "exception": false,
     "start_time": "2023-08-04T07:12:32.545088",
     "status": "completed"
    },
    "tags": []
   },
   "outputs": [
    {
     "data": {
      "text/html": [
       "<div>\n",
       "<style scoped>\n",
       "    .dataframe tbody tr th:only-of-type {\n",
       "        vertical-align: middle;\n",
       "    }\n",
       "\n",
       "    .dataframe tbody tr th {\n",
       "        vertical-align: top;\n",
       "    }\n",
       "\n",
       "    .dataframe thead th {\n",
       "        text-align: right;\n",
       "    }\n",
       "</style>\n",
       "<table border=\"1\" class=\"dataframe\">\n",
       "  <thead>\n",
       "    <tr style=\"text-align: right;\">\n",
       "      <th></th>\n",
       "      <th>Student ID</th>\n",
       "      <th>Age</th>\n",
       "      <th>Gender</th>\n",
       "      <th>Height</th>\n",
       "      <th>Weight</th>\n",
       "      <th>Blood Type</th>\n",
       "      <th>BMI</th>\n",
       "      <th>Temperature</th>\n",
       "      <th>Heart Rate</th>\n",
       "      <th>Blood Pressure</th>\n",
       "      <th>Cholesterol</th>\n",
       "      <th>Diabetes</th>\n",
       "      <th>Smoking</th>\n",
       "    </tr>\n",
       "  </thead>\n",
       "  <tbody>\n",
       "    <tr>\n",
       "      <th>0</th>\n",
       "      <td>1.0</td>\n",
       "      <td>18.0</td>\n",
       "      <td>Female</td>\n",
       "      <td>161.777924</td>\n",
       "      <td>72.354947</td>\n",
       "      <td>O</td>\n",
       "      <td>27.645835</td>\n",
       "      <td>NaN</td>\n",
       "      <td>95.0</td>\n",
       "      <td>109.0</td>\n",
       "      <td>203.0</td>\n",
       "      <td>No</td>\n",
       "      <td>NaN</td>\n",
       "    </tr>\n",
       "    <tr>\n",
       "      <th>1</th>\n",
       "      <td>2.0</td>\n",
       "      <td>NaN</td>\n",
       "      <td>Male</td>\n",
       "      <td>152.069157</td>\n",
       "      <td>47.630941</td>\n",
       "      <td>B</td>\n",
       "      <td>NaN</td>\n",
       "      <td>98.714977</td>\n",
       "      <td>93.0</td>\n",
       "      <td>104.0</td>\n",
       "      <td>163.0</td>\n",
       "      <td>No</td>\n",
       "      <td>No</td>\n",
       "    </tr>\n",
       "    <tr>\n",
       "      <th>2</th>\n",
       "      <td>3.0</td>\n",
       "      <td>32.0</td>\n",
       "      <td>Female</td>\n",
       "      <td>182.537664</td>\n",
       "      <td>55.741083</td>\n",
       "      <td>A</td>\n",
       "      <td>16.729017</td>\n",
       "      <td>98.260293</td>\n",
       "      <td>76.0</td>\n",
       "      <td>130.0</td>\n",
       "      <td>216.0</td>\n",
       "      <td>Yes</td>\n",
       "      <td>No</td>\n",
       "    </tr>\n",
       "    <tr>\n",
       "      <th>3</th>\n",
       "      <td>NaN</td>\n",
       "      <td>30.0</td>\n",
       "      <td>Male</td>\n",
       "      <td>182.112867</td>\n",
       "      <td>63.332207</td>\n",
       "      <td>B</td>\n",
       "      <td>19.096042</td>\n",
       "      <td>98.839605</td>\n",
       "      <td>99.0</td>\n",
       "      <td>112.0</td>\n",
       "      <td>141.0</td>\n",
       "      <td>No</td>\n",
       "      <td>Yes</td>\n",
       "    </tr>\n",
       "    <tr>\n",
       "      <th>4</th>\n",
       "      <td>5.0</td>\n",
       "      <td>23.0</td>\n",
       "      <td>Female</td>\n",
       "      <td>NaN</td>\n",
       "      <td>46.234173</td>\n",
       "      <td>O</td>\n",
       "      <td>NaN</td>\n",
       "      <td>98.480008</td>\n",
       "      <td>95.0</td>\n",
       "      <td>NaN</td>\n",
       "      <td>231.0</td>\n",
       "      <td>No</td>\n",
       "      <td>No</td>\n",
       "    </tr>\n",
       "  </tbody>\n",
       "</table>\n",
       "</div>"
      ],
      "text/plain": [
       "   Student ID   Age  Gender      Height     Weight Blood Type        BMI  \\\n",
       "0         1.0  18.0  Female  161.777924  72.354947          O  27.645835   \n",
       "1         2.0   NaN    Male  152.069157  47.630941          B        NaN   \n",
       "2         3.0  32.0  Female  182.537664  55.741083          A  16.729017   \n",
       "3         NaN  30.0    Male  182.112867  63.332207          B  19.096042   \n",
       "4         5.0  23.0  Female         NaN  46.234173          O        NaN   \n",
       "\n",
       "   Temperature  Heart Rate  Blood Pressure  Cholesterol Diabetes Smoking  \n",
       "0          NaN        95.0           109.0        203.0       No     NaN  \n",
       "1    98.714977        93.0           104.0        163.0       No      No  \n",
       "2    98.260293        76.0           130.0        216.0      Yes      No  \n",
       "3    98.839605        99.0           112.0        141.0       No     Yes  \n",
       "4    98.480008        95.0             NaN        231.0       No      No  "
      ]
     },
     "execution_count": 6,
     "metadata": {},
     "output_type": "execute_result"
    }
   ],
   "source": [
    "data = raw_data.copy()\n",
    "data.head()"
   ]
  },
  {
   "cell_type": "code",
   "execution_count": 7,
   "id": "d8de79ca",
   "metadata": {
    "execution": {
     "iopub.execute_input": "2023-08-04T07:12:32.602671Z",
     "iopub.status.busy": "2023-08-04T07:12:32.602241Z",
     "iopub.status.idle": "2023-08-04T07:12:32.887599Z",
     "shell.execute_reply": "2023-08-04T07:12:32.885839Z"
    },
    "papermill": {
     "duration": 0.297497,
     "end_time": "2023-08-04T07:12:32.890347",
     "exception": false,
     "start_time": "2023-08-04T07:12:32.592850",
     "status": "completed"
    },
    "tags": []
   },
   "outputs": [
    {
     "name": "stdout",
     "output_type": "stream",
     "text": [
      "<class 'pandas.core.frame.DataFrame'>\n",
      "RangeIndex: 200000 entries, 0 to 199999\n",
      "Data columns (total 13 columns):\n",
      " #   Column          Non-Null Count   Dtype  \n",
      "---  ------          --------------   -----  \n",
      " 0   Student ID      180000 non-null  float64\n",
      " 1   Age             180000 non-null  float64\n",
      " 2   Gender          180000 non-null  object \n",
      " 3   Height          180000 non-null  float64\n",
      " 4   Weight          180000 non-null  float64\n",
      " 5   Blood Type      180000 non-null  object \n",
      " 6   BMI             180000 non-null  float64\n",
      " 7   Temperature     180000 non-null  float64\n",
      " 8   Heart Rate      180000 non-null  float64\n",
      " 9   Blood Pressure  180000 non-null  float64\n",
      " 10  Cholesterol     180000 non-null  float64\n",
      " 11  Diabetes        180000 non-null  object \n",
      " 12  Smoking         180000 non-null  object \n",
      "dtypes: float64(9), object(4)\n",
      "memory usage: 19.8+ MB\n"
     ]
    }
   ],
   "source": [
    "data.info()"
   ]
  },
  {
   "cell_type": "code",
   "execution_count": 8,
   "id": "035ebdf6",
   "metadata": {
    "execution": {
     "iopub.execute_input": "2023-08-04T07:12:32.909608Z",
     "iopub.status.busy": "2023-08-04T07:12:32.908754Z",
     "iopub.status.idle": "2023-08-04T07:12:32.998897Z",
     "shell.execute_reply": "2023-08-04T07:12:32.997573Z"
    },
    "papermill": {
     "duration": 0.105189,
     "end_time": "2023-08-04T07:12:33.003666",
     "exception": false,
     "start_time": "2023-08-04T07:12:32.898477",
     "status": "completed"
    },
    "tags": []
   },
   "outputs": [
    {
     "name": "stdout",
     "output_type": "stream",
     "text": [
      "Gender: ['Female' 'Male' nan]\n",
      "Blood Type: ['O' 'B' 'A' 'AB' nan]\n",
      "Diabetes: ['No' 'Yes' nan]\n",
      "Smoking: [nan 'No' 'Yes']\n"
     ]
    }
   ],
   "source": [
    "print('Gender:',data['Gender'].unique())\n",
    "print('Blood Type:',data['Blood Type'].unique())\n",
    "print('Diabetes:',data['Diabetes'].unique())\n",
    "print('Smoking:',data['Smoking'].unique())"
   ]
  },
  {
   "cell_type": "markdown",
   "id": "283693a2",
   "metadata": {
    "papermill": {
     "duration": 0.010311,
     "end_time": "2023-08-04T07:12:33.023646",
     "exception": false,
     "start_time": "2023-08-04T07:12:33.013335",
     "status": "completed"
    },
    "tags": []
   },
   "source": [
    "# Missing Value Handling"
   ]
  },
  {
   "cell_type": "code",
   "execution_count": 9,
   "id": "0e9614a7",
   "metadata": {
    "execution": {
     "iopub.execute_input": "2023-08-04T07:12:33.047554Z",
     "iopub.status.busy": "2023-08-04T07:12:33.046213Z",
     "iopub.status.idle": "2023-08-04T07:12:33.316205Z",
     "shell.execute_reply": "2023-08-04T07:12:33.314860Z"
    },
    "papermill": {
     "duration": 0.284241,
     "end_time": "2023-08-04T07:12:33.318792",
     "exception": false,
     "start_time": "2023-08-04T07:12:33.034551",
     "status": "completed"
    },
    "tags": []
   },
   "outputs": [
    {
     "data": {
      "text/plain": [
       "Student ID        20000\n",
       "Age               20000\n",
       "Gender            20000\n",
       "Height            20000\n",
       "Weight            20000\n",
       "Blood Type        20000\n",
       "BMI               20000\n",
       "Temperature       20000\n",
       "Heart Rate        20000\n",
       "Blood Pressure    20000\n",
       "Cholesterol       20000\n",
       "Diabetes          20000\n",
       "Smoking           20000\n",
       "dtype: int64"
      ]
     },
     "execution_count": 9,
     "metadata": {},
     "output_type": "execute_result"
    }
   ],
   "source": [
    "data.isnull().sum()"
   ]
  },
  {
   "cell_type": "markdown",
   "id": "3c423a90",
   "metadata": {
    "papermill": {
     "duration": 0.008277,
     "end_time": "2023-08-04T07:12:33.335539",
     "exception": false,
     "start_time": "2023-08-04T07:12:33.327262",
     "status": "completed"
    },
    "tags": []
   },
   "source": [
    "Handling missing values in Age by filling in the mean age,"
   ]
  },
  {
   "cell_type": "code",
   "execution_count": 10,
   "id": "ea13aa6a",
   "metadata": {
    "execution": {
     "iopub.execute_input": "2023-08-04T07:12:33.354412Z",
     "iopub.status.busy": "2023-08-04T07:12:33.353852Z",
     "iopub.status.idle": "2023-08-04T07:12:33.368849Z",
     "shell.execute_reply": "2023-08-04T07:12:33.367520Z"
    },
    "papermill": {
     "duration": 0.027742,
     "end_time": "2023-08-04T07:12:33.371802",
     "exception": false,
     "start_time": "2023-08-04T07:12:33.344060",
     "status": "completed"
    },
    "tags": []
   },
   "outputs": [],
   "source": [
    "data['Age'] = data['Age'].replace(np.NaN, data['Age'].mean())"
   ]
  },
  {
   "cell_type": "markdown",
   "id": "08106809",
   "metadata": {
    "papermill": {
     "duration": 0.008313,
     "end_time": "2023-08-04T07:12:33.388448",
     "exception": false,
     "start_time": "2023-08-04T07:12:33.380135",
     "status": "completed"
    },
    "tags": []
   },
   "source": [
    "Let's assume a new category for people who's gender is not mentioned and call them others."
   ]
  },
  {
   "cell_type": "code",
   "execution_count": 11,
   "id": "f7f036c3",
   "metadata": {
    "execution": {
     "iopub.execute_input": "2023-08-04T07:12:33.408108Z",
     "iopub.status.busy": "2023-08-04T07:12:33.406751Z",
     "iopub.status.idle": "2023-08-04T07:12:33.441926Z",
     "shell.execute_reply": "2023-08-04T07:12:33.440539Z"
    },
    "papermill": {
     "duration": 0.047789,
     "end_time": "2023-08-04T07:12:33.444741",
     "exception": false,
     "start_time": "2023-08-04T07:12:33.396952",
     "status": "completed"
    },
    "tags": []
   },
   "outputs": [],
   "source": [
    "data['Gender'] = data['Gender'].fillna('Other')"
   ]
  },
  {
   "cell_type": "markdown",
   "id": "8b3e0461",
   "metadata": {
    "papermill": {
     "duration": 0.008151,
     "end_time": "2023-08-04T07:12:33.461478",
     "exception": false,
     "start_time": "2023-08-04T07:12:33.453327",
     "status": "completed"
    },
    "tags": []
   },
   "source": [
    "Handling missing values in Height and weight by filling in the mean values."
   ]
  },
  {
   "cell_type": "code",
   "execution_count": 12,
   "id": "5013951c",
   "metadata": {
    "execution": {
     "iopub.execute_input": "2023-08-04T07:12:33.480466Z",
     "iopub.status.busy": "2023-08-04T07:12:33.480004Z",
     "iopub.status.idle": "2023-08-04T07:12:33.501621Z",
     "shell.execute_reply": "2023-08-04T07:12:33.500246Z"
    },
    "papermill": {
     "duration": 0.034453,
     "end_time": "2023-08-04T07:12:33.504488",
     "exception": false,
     "start_time": "2023-08-04T07:12:33.470035",
     "status": "completed"
    },
    "tags": []
   },
   "outputs": [],
   "source": [
    "data['Height'] = data['Height'].replace(np.NaN, data['Height'].mean())\n",
    "data['Weight'] = data['Weight'].replace(np.NaN, data['Weight'].mean())"
   ]
  },
  {
   "cell_type": "code",
   "execution_count": null,
   "id": "674beb05",
   "metadata": {
    "papermill": {
     "duration": 0.008032,
     "end_time": "2023-08-04T07:12:33.520940",
     "exception": false,
     "start_time": "2023-08-04T07:12:33.512908",
     "status": "completed"
    },
    "tags": []
   },
   "outputs": [],
   "source": []
  },
  {
   "cell_type": "code",
   "execution_count": 13,
   "id": "733d356b",
   "metadata": {
    "execution": {
     "iopub.execute_input": "2023-08-04T07:12:33.539533Z",
     "iopub.status.busy": "2023-08-04T07:12:33.539075Z",
     "iopub.status.idle": "2023-08-04T07:12:33.801000Z",
     "shell.execute_reply": "2023-08-04T07:12:33.799765Z"
    },
    "papermill": {
     "duration": 0.274682,
     "end_time": "2023-08-04T07:12:33.803953",
     "exception": false,
     "start_time": "2023-08-04T07:12:33.529271",
     "status": "completed"
    },
    "tags": []
   },
   "outputs": [
    {
     "data": {
      "text/plain": [
       "Student ID        20000\n",
       "Age                   0\n",
       "Gender                0\n",
       "Height                0\n",
       "Weight                0\n",
       "Blood Type        20000\n",
       "BMI               20000\n",
       "Temperature       20000\n",
       "Heart Rate        20000\n",
       "Blood Pressure    20000\n",
       "Cholesterol       20000\n",
       "Diabetes          20000\n",
       "Smoking           20000\n",
       "dtype: int64"
      ]
     },
     "execution_count": 13,
     "metadata": {},
     "output_type": "execute_result"
    }
   ],
   "source": [
    "# after handling\n",
    "data.isnull().sum()"
   ]
  }
 ],
 "metadata": {
  "kernelspec": {
   "display_name": "Python 3",
   "language": "python",
   "name": "python3"
  },
  "language_info": {
   "codemirror_mode": {
    "name": "ipython",
    "version": 3
   },
   "file_extension": ".py",
   "mimetype": "text/x-python",
   "name": "python",
   "nbconvert_exporter": "python",
   "pygments_lexer": "ipython3",
   "version": "3.10.12"
  },
  "papermill": {
   "default_parameters": {},
   "duration": 18.64808,
   "end_time": "2023-08-04T07:12:34.837316",
   "environment_variables": {},
   "exception": null,
   "input_path": "__notebook__.ipynb",
   "output_path": "__notebook__.ipynb",
   "parameters": {},
   "start_time": "2023-08-04T07:12:16.189236",
   "version": "2.4.0"
  }
 },
 "nbformat": 4,
 "nbformat_minor": 5
}
