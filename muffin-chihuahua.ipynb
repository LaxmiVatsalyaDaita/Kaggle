{
 "cells": [
  {
   "cell_type": "code",
   "execution_count": 1,
   "id": "6ed2e9f0",
   "metadata": {
    "_cell_guid": "b1076dfc-b9ad-4769-8c92-a6c4dae69d19",
    "_uuid": "8f2839f25d086af736a60e9eeb907d3b93b6e0e5",
    "execution": {
     "iopub.execute_input": "2023-10-24T07:12:34.132252Z",
     "iopub.status.busy": "2023-10-24T07:12:34.131414Z",
     "iopub.status.idle": "2023-10-24T07:12:34.520086Z",
     "shell.execute_reply": "2023-10-24T07:12:34.518774Z"
    },
    "papermill": {
     "duration": 0.396953,
     "end_time": "2023-10-24T07:12:34.523205",
     "exception": false,
     "start_time": "2023-10-24T07:12:34.126252",
     "status": "completed"
    },
    "tags": []
   },
   "outputs": [],
   "source": [
    "# This Python 3 environment comes with many helpful analytics libraries installed\n",
    "# It is defined by the kaggle/python Docker image: https://github.com/kaggle/docker-python\n",
    "# For example, here's several helpful packages to load\n",
    "\n",
    "import numpy as np # linear algebra\n",
    "import pandas as pd # data processing, CSV file I/O (e.g. pd.read_csv)\n",
    "\n",
    "# Input data files are available in the read-only \"../input/\" directory\n",
    "# For example, running this (by clicking run or pressing Shift+Enter) will list all files under the input directory\n",
    "\n",
    "# You can write up to 20GB to the current directory (/kaggle/working/) that gets preserved as output when you create a version using \"Save & Run All\" \n",
    "# You can also write temporary files to /kaggle/temp/, but they won't be saved outside of the current session"
   ]
  },
  {
   "cell_type": "code",
   "execution_count": 2,
   "id": "2d3fe7eb",
   "metadata": {
    "execution": {
     "iopub.execute_input": "2023-10-24T07:12:34.532920Z",
     "iopub.status.busy": "2023-10-24T07:12:34.532420Z",
     "iopub.status.idle": "2023-10-24T07:12:45.276072Z",
     "shell.execute_reply": "2023-10-24T07:12:45.274765Z"
    },
    "papermill": {
     "duration": 10.750614,
     "end_time": "2023-10-24T07:12:45.278931",
     "exception": false,
     "start_time": "2023-10-24T07:12:34.528317",
     "status": "completed"
    },
    "tags": []
   },
   "outputs": [],
   "source": [
    "import tensorflow as tf\n",
    "import pandas as pd\n",
    "import numpy as np\n",
    "import matplotlib.pyplot as plt\n",
    "import seaborn as sns\n",
    "sns.set()"
   ]
  },
  {
   "cell_type": "code",
   "execution_count": 3,
   "id": "8b021aee",
   "metadata": {
    "execution": {
     "iopub.execute_input": "2023-10-24T07:12:45.286712Z",
     "iopub.status.busy": "2023-10-24T07:12:45.286043Z",
     "iopub.status.idle": "2023-10-24T07:12:45.296826Z",
     "shell.execute_reply": "2023-10-24T07:12:45.295793Z"
    },
    "papermill": {
     "duration": 0.017347,
     "end_time": "2023-10-24T07:12:45.299291",
     "exception": false,
     "start_time": "2023-10-24T07:12:45.281944",
     "status": "completed"
    },
    "tags": []
   },
   "outputs": [],
   "source": [
    "train = pd.DataFrame(columns = ['label','path'])\n",
    "test = pd.DataFrame(columns = ['label', 'path'])"
   ]
  },
  {
   "cell_type": "code",
   "execution_count": 4,
   "id": "94a1de25",
   "metadata": {
    "execution": {
     "iopub.execute_input": "2023-10-24T07:12:45.306686Z",
     "iopub.status.busy": "2023-10-24T07:12:45.306305Z",
     "iopub.status.idle": "2023-10-24T07:13:01.878110Z",
     "shell.execute_reply": "2023-10-24T07:13:01.876974Z"
    },
    "papermill": {
     "duration": 16.578467,
     "end_time": "2023-10-24T07:13:01.880643",
     "exception": false,
     "start_time": "2023-10-24T07:12:45.302176",
     "status": "completed"
    },
    "tags": []
   },
   "outputs": [],
   "source": [
    "import os\n",
    "\n",
    "for dirname, _, filenames in os.walk('/kaggle/input'):\n",
    "    for filename in filenames:\n",
    "        paths = dirname.split('/')\n",
    "        batch = paths[-2]\n",
    "        label = paths[-1]\n",
    "        file_path = os.path.join(dirname,filename)\n",
    "        \n",
    "        dic = {'label': label, 'path': file_path}\n",
    "        if batch == 'test':\n",
    "            test.loc[len(test)] = dic\n",
    "            \n",
    "        elif batch == 'train':\n",
    "            train.loc[len(train)] = dic"
   ]
  },
  {
   "cell_type": "code",
   "execution_count": 5,
   "id": "5c9a9e2f",
   "metadata": {
    "execution": {
     "iopub.execute_input": "2023-10-24T07:13:01.888342Z",
     "iopub.status.busy": "2023-10-24T07:13:01.887947Z",
     "iopub.status.idle": "2023-10-24T07:13:01.907796Z",
     "shell.execute_reply": "2023-10-24T07:13:01.906687Z"
    },
    "papermill": {
     "duration": 0.026555,
     "end_time": "2023-10-24T07:13:01.910247",
     "exception": false,
     "start_time": "2023-10-24T07:13:01.883692",
     "status": "completed"
    },
    "tags": []
   },
   "outputs": [
    {
     "data": {
      "text/html": [
       "<div>\n",
       "<style scoped>\n",
       "    .dataframe tbody tr th:only-of-type {\n",
       "        vertical-align: middle;\n",
       "    }\n",
       "\n",
       "    .dataframe tbody tr th {\n",
       "        vertical-align: top;\n",
       "    }\n",
       "\n",
       "    .dataframe thead th {\n",
       "        text-align: right;\n",
       "    }\n",
       "</style>\n",
       "<table border=\"1\" class=\"dataframe\">\n",
       "  <thead>\n",
       "    <tr style=\"text-align: right;\">\n",
       "      <th></th>\n",
       "      <th>label</th>\n",
       "      <th>path</th>\n",
       "    </tr>\n",
       "  </thead>\n",
       "  <tbody>\n",
       "    <tr>\n",
       "      <th>98</th>\n",
       "      <td>muffin</td>\n",
       "      <td>/kaggle/input/muffin-vs-chihuahua-image-classi...</td>\n",
       "    </tr>\n",
       "    <tr>\n",
       "      <th>521</th>\n",
       "      <td>muffin</td>\n",
       "      <td>/kaggle/input/muffin-vs-chihuahua-image-classi...</td>\n",
       "    </tr>\n",
       "    <tr>\n",
       "      <th>373</th>\n",
       "      <td>muffin</td>\n",
       "      <td>/kaggle/input/muffin-vs-chihuahua-image-classi...</td>\n",
       "    </tr>\n",
       "    <tr>\n",
       "      <th>673</th>\n",
       "      <td>chihuahua</td>\n",
       "      <td>/kaggle/input/muffin-vs-chihuahua-image-classi...</td>\n",
       "    </tr>\n",
       "    <tr>\n",
       "      <th>642</th>\n",
       "      <td>chihuahua</td>\n",
       "      <td>/kaggle/input/muffin-vs-chihuahua-image-classi...</td>\n",
       "    </tr>\n",
       "  </tbody>\n",
       "</table>\n",
       "</div>"
      ],
      "text/plain": [
       "         label                                               path\n",
       "98      muffin  /kaggle/input/muffin-vs-chihuahua-image-classi...\n",
       "521     muffin  /kaggle/input/muffin-vs-chihuahua-image-classi...\n",
       "373     muffin  /kaggle/input/muffin-vs-chihuahua-image-classi...\n",
       "673  chihuahua  /kaggle/input/muffin-vs-chihuahua-image-classi...\n",
       "642  chihuahua  /kaggle/input/muffin-vs-chihuahua-image-classi..."
      ]
     },
     "execution_count": 5,
     "metadata": {},
     "output_type": "execute_result"
    }
   ],
   "source": [
    "test.sample(5)"
   ]
  },
  {
   "cell_type": "code",
   "execution_count": 6,
   "id": "fc8f3258",
   "metadata": {
    "execution": {
     "iopub.execute_input": "2023-10-24T07:13:01.918607Z",
     "iopub.status.busy": "2023-10-24T07:13:01.917529Z",
     "iopub.status.idle": "2023-10-24T07:13:01.928898Z",
     "shell.execute_reply": "2023-10-24T07:13:01.927654Z"
    },
    "papermill": {
     "duration": 0.017997,
     "end_time": "2023-10-24T07:13:01.931285",
     "exception": false,
     "start_time": "2023-10-24T07:13:01.913288",
     "status": "completed"
    },
    "tags": []
   },
   "outputs": [
    {
     "data": {
      "text/html": [
       "<div>\n",
       "<style scoped>\n",
       "    .dataframe tbody tr th:only-of-type {\n",
       "        vertical-align: middle;\n",
       "    }\n",
       "\n",
       "    .dataframe tbody tr th {\n",
       "        vertical-align: top;\n",
       "    }\n",
       "\n",
       "    .dataframe thead th {\n",
       "        text-align: right;\n",
       "    }\n",
       "</style>\n",
       "<table border=\"1\" class=\"dataframe\">\n",
       "  <thead>\n",
       "    <tr style=\"text-align: right;\">\n",
       "      <th></th>\n",
       "      <th>label</th>\n",
       "      <th>path</th>\n",
       "    </tr>\n",
       "  </thead>\n",
       "  <tbody>\n",
       "    <tr>\n",
       "      <th>476</th>\n",
       "      <td>muffin</td>\n",
       "      <td>/kaggle/input/muffin-vs-chihuahua-image-classi...</td>\n",
       "    </tr>\n",
       "    <tr>\n",
       "      <th>3610</th>\n",
       "      <td>chihuahua</td>\n",
       "      <td>/kaggle/input/muffin-vs-chihuahua-image-classi...</td>\n",
       "    </tr>\n",
       "    <tr>\n",
       "      <th>81</th>\n",
       "      <td>muffin</td>\n",
       "      <td>/kaggle/input/muffin-vs-chihuahua-image-classi...</td>\n",
       "    </tr>\n",
       "    <tr>\n",
       "      <th>2544</th>\n",
       "      <td>chihuahua</td>\n",
       "      <td>/kaggle/input/muffin-vs-chihuahua-image-classi...</td>\n",
       "    </tr>\n",
       "    <tr>\n",
       "      <th>172</th>\n",
       "      <td>muffin</td>\n",
       "      <td>/kaggle/input/muffin-vs-chihuahua-image-classi...</td>\n",
       "    </tr>\n",
       "  </tbody>\n",
       "</table>\n",
       "</div>"
      ],
      "text/plain": [
       "          label                                               path\n",
       "476      muffin  /kaggle/input/muffin-vs-chihuahua-image-classi...\n",
       "3610  chihuahua  /kaggle/input/muffin-vs-chihuahua-image-classi...\n",
       "81       muffin  /kaggle/input/muffin-vs-chihuahua-image-classi...\n",
       "2544  chihuahua  /kaggle/input/muffin-vs-chihuahua-image-classi...\n",
       "172      muffin  /kaggle/input/muffin-vs-chihuahua-image-classi..."
      ]
     },
     "execution_count": 6,
     "metadata": {},
     "output_type": "execute_result"
    }
   ],
   "source": [
    "train.sample(5)"
   ]
  },
  {
   "cell_type": "code",
   "execution_count": 7,
   "id": "3247691c",
   "metadata": {
    "execution": {
     "iopub.execute_input": "2023-10-24T07:13:01.939359Z",
     "iopub.status.busy": "2023-10-24T07:13:01.938958Z",
     "iopub.status.idle": "2023-10-24T07:13:02.272246Z",
     "shell.execute_reply": "2023-10-24T07:13:02.271298Z"
    },
    "papermill": {
     "duration": 0.339987,
     "end_time": "2023-10-24T07:13:02.274494",
     "exception": false,
     "start_time": "2023-10-24T07:13:01.934507",
     "status": "completed"
    },
    "tags": []
   },
   "outputs": [
    {
     "data": {
      "text/plain": [
       "Text(0.5, 1.0, 'Muffin/Chihuahua in train set')"
      ]
     },
     "execution_count": 7,
     "metadata": {},
     "output_type": "execute_result"
    },
    {
     "data": {
      "image/png": "[encoded data removed]",
      "text/plain": [
       "<Figure size 1200x400 with 1 Axes>"
      ]
     },
     "metadata": {},
     "output_type": "display_data"
    }
   ],
   "source": [
    "plt.figure(figsize = (12,4))\n",
    "sns.countplot(data = train, x = 'label')\n",
    "plt.title(\"Muffin/Chihuahua in train set\")"
   ]
  },
  {
   "cell_type": "code",
   "execution_count": 8,
   "id": "a3f6a530",
   "metadata": {
    "execution": {
     "iopub.execute_input": "2023-10-24T07:13:02.283936Z",
     "iopub.status.busy": "2023-10-24T07:13:02.283289Z",
     "iopub.status.idle": "2023-10-24T07:13:02.571454Z",
     "shell.execute_reply": "2023-10-24T07:13:02.570245Z"
    },
    "papermill": {
     "duration": 0.29542,
     "end_time": "2023-10-24T07:13:02.573783",
     "exception": false,
     "start_time": "2023-10-24T07:13:02.278363",
     "status": "completed"
    },
    "tags": []
   },
   "outputs": [
    {
     "data": {
      "text/plain": [
       "Text(0.5, 1.0, 'Muffin/Chihuahua in test set')"
      ]
     },
     "execution_count": 8,
     "metadata": {},
     "output_type": "execute_result"
    },
    {
     "data": {
      "image/png": "[encoded data removed]",
      "text/plain": [
       "<Figure size 1200x400 with 1 Axes>"
      ]
     },
     "metadata": {},
     "output_type": "display_data"
    }
   ],
   "source": [
    "plt.figure(figsize = (12,4))\n",
    "sns.countplot(data = test, x = 'label')\n",
    "plt.title(\"Muffin/Chihuahua in test set\")"
   ]
  }
 ],
 "metadata": {
  "kernelspec": {
   "display_name": "Python 3",
   "language": "python",
   "name": "python3"
  },
  "language_info": {
   "codemirror_mode": {
    "name": "ipython",
    "version": 3
   },
   "file_extension": ".py",
   "mimetype": "text/x-python",
   "name": "python",
   "nbconvert_exporter": "python",
   "pygments_lexer": "ipython3",
   "version": "3.10.12"
  },
  "papermill": {
   "default_parameters": {},
   "duration": 33.385508,
   "end_time": "2023-10-24T07:13:04.202815",
   "environment_variables": {},
   "exception": null,
   "input_path": "__notebook__.ipynb",
   "output_path": "__notebook__.ipynb",
   "parameters": {},
   "start_time": "2023-10-24T07:12:30.817307",
   "version": "2.4.0"
  }
 },
 "nbformat": 4,
 "nbformat_minor": 5
}
