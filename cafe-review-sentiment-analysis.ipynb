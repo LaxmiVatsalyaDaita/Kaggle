{
 "cells": [
  {
   "cell_type": "markdown",
   "id": "55fe2f9e",
   "metadata": {
    "papermill": {
     "duration": 0.003662,
     "end_time": "2023-08-19T10:58:41.236025",
     "exception": false,
     "start_time": "2023-08-19T10:58:41.232363",
     "status": "completed"
    },
    "tags": []
   },
   "source": [
    "**If you like my notebook, please don't forget to UPVOTE! You can also make a copy of my notebook and edit to run your additional analysis.**"
   ]
  },
  {
   "cell_type": "code",
   "execution_count": 1,
   "id": "9c0ab310",
   "metadata": {
    "_cell_guid": "b1076dfc-b9ad-4769-8c92-a6c4dae69d19",
    "_uuid": "8f2839f25d086af736a60e9eeb907d3b93b6e0e5",
    "execution": {
     "iopub.execute_input": "2023-08-19T10:58:41.243892Z",
     "iopub.status.busy": "2023-08-19T10:58:41.243424Z",
     "iopub.status.idle": "2023-08-19T10:58:41.270998Z",
     "shell.execute_reply": "2023-08-19T10:58:41.269474Z"
    },
    "papermill": {
     "duration": 0.03495,
     "end_time": "2023-08-19T10:58:41.273972",
     "exception": false,
     "start_time": "2023-08-19T10:58:41.239022",
     "status": "completed"
    },
    "tags": []
   },
   "outputs": [
    {
     "name": "stdout",
     "output_type": "stream",
     "text": [
      "/kaggle/input/zomato-cafe-reviews/reviews.csv\n"
     ]
    }
   ],
   "source": [
    "# This Python 3 environment comes with many helpful analytics libraries installed\n",
    "# It is defined by the kaggle/python Docker image: https://github.com/kaggle/docker-python\n",
    "# For example, here's several helpful packages to load\n",
    "\n",
    "import numpy as np # linear algebra\n",
    "import pandas as pd # data processing, CSV file I/O (e.g. pd.read_csv)\n",
    "\n",
    "# Input data files are available in the read-only \"../input/\" directory\n",
    "# For example, running this (by clicking run or pressing Shift+Enter) will list all files under the input directory\n",
    "\n",
    "import os\n",
    "for dirname, _, filenames in os.walk('/kaggle/input'):\n",
    "    for filename in filenames:\n",
    "        print(os.path.join(dirname, filename))\n",
    "\n",
    "# You can write up to 20GB to the current directory (/kaggle/working/) that gets preserved as output when you create a version using \"Save & Run All\" \n",
    "# You can also write temporary files to /kaggle/temp/, but they won't be saved outside of the current session"
   ]
  },
  {
   "cell_type": "code",
   "execution_count": 2,
   "id": "ab59bdda",
   "metadata": {
    "execution": {
     "iopub.execute_input": "2023-08-19T10:58:41.282548Z",
     "iopub.status.busy": "2023-08-19T10:58:41.282167Z",
     "iopub.status.idle": "2023-08-19T10:58:43.549399Z",
     "shell.execute_reply": "2023-08-19T10:58:43.547113Z"
    },
    "papermill": {
     "duration": 2.275451,
     "end_time": "2023-08-19T10:58:43.552823",
     "exception": false,
     "start_time": "2023-08-19T10:58:41.277372",
     "status": "completed"
    },
    "tags": []
   },
   "outputs": [
    {
     "name": "stderr",
     "output_type": "stream",
     "text": [
      "/opt/conda/lib/python3.10/site-packages/scipy/__init__.py:146: UserWarning: A NumPy version >=1.16.5 and <1.23.0 is required for this version of SciPy (detected version 1.23.5\n",
      "  warnings.warn(f\"A NumPy version >={np_minversion} and <{np_maxversion}\"\n"
     ]
    },
    {
     "data": {
      "text/html": [
       "        <script type=\"text/javascript\">\n",
       "        window.PlotlyConfig = {MathJaxConfig: 'local'};\n",
       "        if (window.MathJax && window.MathJax.Hub && window.MathJax.Hub.Config) {window.MathJax.Hub.Config({SVG: {font: \"STIX-Web\"}});}\n",
       "        if (typeof require !== 'undefined') {\n",
       "        require.undef(\"plotly\");\n",
       "        requirejs.config({\n",
       "            paths: {\n",
       "                'plotly': ['https://cdn.plot.ly/plotly-2.24.1.min']\n",
       "            }\n",
       "        });\n",
       "        require(['plotly'], function(Plotly) {\n",
       "            window._Plotly = Plotly;\n",
       "        });\n",
       "        }\n",
       "        </script>\n",
       "        "
      ]
     },
     "metadata": {},
     "output_type": "display_data"
    }
   ],
   "source": [
    "import matplotlib.pyplot as plt\n",
    "import seaborn as sns\n",
    "sns.set()\n",
    "%matplotlib inline\n",
    "import plotly.offline as py\n",
    "py.init_notebook_mode(connected=True)\n",
    "import plotly.graph_objs as go\n",
    "import plotly.tools as tls\n",
    "import plotly.express as px"
   ]
  },
  {
   "cell_type": "code",
   "execution_count": 3,
   "id": "0088a55f",
   "metadata": {
    "execution": {
     "iopub.execute_input": "2023-08-19T10:58:43.563223Z",
     "iopub.status.busy": "2023-08-19T10:58:43.562763Z",
     "iopub.status.idle": "2023-08-19T10:58:43.615041Z",
     "shell.execute_reply": "2023-08-19T10:58:43.613714Z"
    },
    "papermill": {
     "duration": 0.05987,
     "end_time": "2023-08-19T10:58:43.617623",
     "exception": false,
     "start_time": "2023-08-19T10:58:43.557753",
     "status": "completed"
    },
    "tags": []
   },
   "outputs": [
    {
     "data": {
      "text/html": [
       "<div>\n",
       "<style scoped>\n",
       "    .dataframe tbody tr th:only-of-type {\n",
       "        vertical-align: middle;\n",
       "    }\n",
       "\n",
       "    .dataframe tbody tr th {\n",
       "        vertical-align: top;\n",
       "    }\n",
       "\n",
       "    .dataframe thead th {\n",
       "        text-align: right;\n",
       "    }\n",
       "</style>\n",
       "<table border=\"1\" class=\"dataframe\">\n",
       "  <thead>\n",
       "    <tr style=\"text-align: right;\">\n",
       "      <th></th>\n",
       "      <th>Index</th>\n",
       "      <th>Name</th>\n",
       "      <th>Overall_Rating</th>\n",
       "      <th>Cuisine</th>\n",
       "      <th>Rate for two</th>\n",
       "      <th>City</th>\n",
       "      <th>Review</th>\n",
       "    </tr>\n",
       "  </thead>\n",
       "  <tbody>\n",
       "    <tr>\n",
       "      <th>0</th>\n",
       "      <td>0</td>\n",
       "      <td>Oliver Brown</td>\n",
       "      <td>3.9</td>\n",
       "      <td>Cafe, Coffee, Shake, Juices, Beverages, Waffle...</td>\n",
       "      <td>500</td>\n",
       "      <td>ahmedabad</td>\n",
       "      <td>Been to this place 3-4 times. Prakash is alway...</td>\n",
       "    </tr>\n",
       "    <tr>\n",
       "      <th>1</th>\n",
       "      <td>1</td>\n",
       "      <td>Oliver Brown</td>\n",
       "      <td>3.9</td>\n",
       "      <td>Cafe, Coffee, Shake, Juices, Beverages, Waffle...</td>\n",
       "      <td>500</td>\n",
       "      <td>ahmedabad</td>\n",
       "      <td>I recently visited Oliver Brown on a weekend f...</td>\n",
       "    </tr>\n",
       "    <tr>\n",
       "      <th>2</th>\n",
       "      <td>2</td>\n",
       "      <td>Crush Coffee</td>\n",
       "      <td>3</td>\n",
       "      <td>Cafe, Shake, Beverages, Desserts</td>\n",
       "      <td>600</td>\n",
       "      <td>ahmedabad</td>\n",
       "      <td>Very watery ans thin shake</td>\n",
       "    </tr>\n",
       "    <tr>\n",
       "      <th>3</th>\n",
       "      <td>3</td>\n",
       "      <td>The Mohalla</td>\n",
       "      <td>3.8</td>\n",
       "      <td>Cafe</td>\n",
       "      <td>550</td>\n",
       "      <td>ahmedabad</td>\n",
       "      <td>it was not cheese burst pizza.. only cheeze wa...</td>\n",
       "    </tr>\n",
       "    <tr>\n",
       "      <th>4</th>\n",
       "      <td>4</td>\n",
       "      <td>The Mohalla</td>\n",
       "      <td>3.8</td>\n",
       "      <td>Cafe</td>\n",
       "      <td>550</td>\n",
       "      <td>ahmedabad</td>\n",
       "      <td>Yammi.,....test burger is best I love 💗 this B...</td>\n",
       "    </tr>\n",
       "  </tbody>\n",
       "</table>\n",
       "</div>"
      ],
      "text/plain": [
       "   Index          Name Overall_Rating  \\\n",
       "0      0  Oliver Brown            3.9   \n",
       "1      1  Oliver Brown            3.9   \n",
       "2      2  Crush Coffee              3   \n",
       "3      3   The Mohalla            3.8   \n",
       "4      4   The Mohalla            3.8   \n",
       "\n",
       "                                             Cuisine Rate for two       City  \\\n",
       "0  Cafe, Coffee, Shake, Juices, Beverages, Waffle...          500  ahmedabad   \n",
       "1  Cafe, Coffee, Shake, Juices, Beverages, Waffle...          500  ahmedabad   \n",
       "2                   Cafe, Shake, Beverages, Desserts          600  ahmedabad   \n",
       "3                                               Cafe          550  ahmedabad   \n",
       "4                                               Cafe          550  ahmedabad   \n",
       "\n",
       "                                              Review  \n",
       "0  Been to this place 3-4 times. Prakash is alway...  \n",
       "1  I recently visited Oliver Brown on a weekend f...  \n",
       "2                         Very watery ans thin shake  \n",
       "3  it was not cheese burst pizza.. only cheeze wa...  \n",
       "4  Yammi.,....test burger is best I love 💗 this B...  "
      ]
     },
     "execution_count": 3,
     "metadata": {},
     "output_type": "execute_result"
    }
   ],
   "source": [
    "data = pd.read_csv('/kaggle/input/zomato-cafe-reviews/reviews.csv')\n",
    "data.head()"
   ]
  },
  {
   "cell_type": "code",
   "execution_count": 4,
   "id": "95e4fb92",
   "metadata": {
    "execution": {
     "iopub.execute_input": "2023-08-19T10:58:43.627729Z",
     "iopub.status.busy": "2023-08-19T10:58:43.626125Z",
     "iopub.status.idle": "2023-08-19T10:58:43.639183Z",
     "shell.execute_reply": "2023-08-19T10:58:43.638016Z"
    },
    "papermill": {
     "duration": 0.020268,
     "end_time": "2023-08-19T10:58:43.641671",
     "exception": false,
     "start_time": "2023-08-19T10:58:43.621403",
     "status": "completed"
    },
    "tags": []
   },
   "outputs": [
    {
     "data": {
      "text/plain": [
       "array(['3.9', '3', '3.8', '4.3', '3.7', '4.8', '4.1', '4', '4.2', '3.6',\n",
       "       '4.4', '-', '3.5', '3.4', '3.1', '3.3', '3.2', '4.5', '4.9', 'New',\n",
       "       '2.8', '2.7', '2.5', '2.9', '2.6'], dtype=object)"
      ]
     },
     "execution_count": 4,
     "metadata": {},
     "output_type": "execute_result"
    }
   ],
   "source": [
    "data['Overall_Rating'].unique()"
   ]
  },
  {
   "cell_type": "code",
   "execution_count": 5,
   "id": "e192351c",
   "metadata": {
    "execution": {
     "iopub.execute_input": "2023-08-19T10:58:43.651355Z",
     "iopub.status.busy": "2023-08-19T10:58:43.650868Z",
     "iopub.status.idle": "2023-08-19T10:58:43.662617Z",
     "shell.execute_reply": "2023-08-19T10:58:43.660986Z"
    },
    "papermill": {
     "duration": 0.019136,
     "end_time": "2023-08-19T10:58:43.665165",
     "exception": false,
     "start_time": "2023-08-19T10:58:43.646029",
     "status": "completed"
    },
    "tags": []
   },
   "outputs": [],
   "source": [
    "data = data[data['Overall_Rating']!='-']"
   ]
  },
  {
   "cell_type": "code",
   "execution_count": 6,
   "id": "fa6cab1f",
   "metadata": {
    "execution": {
     "iopub.execute_input": "2023-08-19T10:58:43.674345Z",
     "iopub.status.busy": "2023-08-19T10:58:43.673893Z",
     "iopub.status.idle": "2023-08-19T10:58:43.683205Z",
     "shell.execute_reply": "2023-08-19T10:58:43.681859Z"
    },
    "papermill": {
     "duration": 0.016593,
     "end_time": "2023-08-19T10:58:43.685643",
     "exception": false,
     "start_time": "2023-08-19T10:58:43.669050",
     "status": "completed"
    },
    "tags": []
   },
   "outputs": [],
   "source": [
    "data = data[data['Overall_Rating']!='New']"
   ]
  },
  {
   "cell_type": "code",
   "execution_count": 7,
   "id": "1625fe84",
   "metadata": {
    "execution": {
     "iopub.execute_input": "2023-08-19T10:58:43.696985Z",
     "iopub.status.busy": "2023-08-19T10:58:43.696253Z",
     "iopub.status.idle": "2023-08-19T10:58:43.702417Z",
     "shell.execute_reply": "2023-08-19T10:58:43.701187Z"
    },
    "papermill": {
     "duration": 0.014884,
     "end_time": "2023-08-19T10:58:43.705118",
     "exception": false,
     "start_time": "2023-08-19T10:58:43.690234",
     "status": "completed"
    },
    "tags": []
   },
   "outputs": [
    {
     "data": {
      "text/plain": [
       "(658, 7)"
      ]
     },
     "execution_count": 7,
     "metadata": {},
     "output_type": "execute_result"
    }
   ],
   "source": [
    "data.shape"
   ]
  },
  {
   "cell_type": "markdown",
   "id": "6cbce740",
   "metadata": {
    "papermill": {
     "duration": 0.003445,
     "end_time": "2023-08-19T10:58:43.712811",
     "exception": false,
     "start_time": "2023-08-19T10:58:43.709366",
     "status": "completed"
    },
    "tags": []
   },
   "source": [
    "Plotting overall ratings:"
   ]
  },
  {
   "cell_type": "code",
   "execution_count": 8,
   "id": "ff7c8694",
   "metadata": {
    "execution": {
     "iopub.execute_input": "2023-08-19T10:58:43.722409Z",
     "iopub.status.busy": "2023-08-19T10:58:43.721708Z",
     "iopub.status.idle": "2023-08-19T10:58:45.572546Z",
     "shell.execute_reply": "2023-08-19T10:58:45.571034Z"
    },
    "papermill": {
     "duration": 1.858483,
     "end_time": "2023-08-19T10:58:45.575042",
     "exception": false,
     "start_time": "2023-08-19T10:58:43.716559",
     "status": "completed"
    },
    "tags": []
   },
   "outputs": [
    {
     "data": {
      "application/vnd.plotly.v1+json": {
       "config": {
        "plotlyServerURL": "https://plot.ly"
       },
       "data": [
        {
         "alignmentgroup": "True",
         "bingroup": "x",
         "hovertemplate": "Overall_Rating=%{x}<br>count=%{y}<extra></extra>",
         "legendgroup": "",
         "marker": {
          "color": "#636efa",
          "pattern": {
           "shape": ""
          }
         },
         "name": "",
         "offsetgroup": "",
         "orientation": "v",
         "showlegend": false,
         "type": "histogram",
         "x": [
          "3.9",
          "3.9",
          "3",
          "3.8",
          "3.8",
          "4.3",
          "4.3",
          "3.7",
          "4.8",
          "4.1",
          "4.1",
          "4.1",
          "4",
          "3.9",
          "3.9",
          "4.2",
          "4.2",
          "4.2",
          "4",
          "4",
          "4",
          "4",
          "3.6",
          "3.8",
          "3.8",
          "3",
          "3.9",
          "3.9",
          "3.9",
          "3.9",
          "4.4",
          "4.4",
          "4.4",
          "3.5",
          "3.5",
          "4",
          "4",
          "4.1",
          "3.9",
          "3.9",
          "3.9",
          "3.4",
          "3.4",
          "3.4",
          "4.2",
          "4.2",
          "4.1",
          "3.9",
          "3.1",
          "3.1",
          "3.1",
          "3.3",
          "3.3",
          "3.3",
          "3.3",
          "3.3",
          "3.9",
          "3.9",
          "3.9",
          "3.9",
          "3.9",
          "3.9",
          "3.6",
          "3.6",
          "3.9",
          "3.5",
          "3.5",
          "4.1",
          "3.6",
          "3.6",
          "3.2",
          "3.2",
          "3.2",
          "4.5",
          "4.5",
          "4.5",
          "4.3",
          "4.3",
          "4.3",
          "4.3",
          "4.3",
          "3.7",
          "3.7",
          "3.7",
          "4.9",
          "4.9",
          "4.9",
          "4.1",
          "4.1",
          "4.1",
          "3.9",
          "3.9",
          "3.9",
          "3.9",
          "3.9",
          "4",
          "4",
          "4",
          "4",
          "4",
          "2.8",
          "2.8",
          "2.8",
          "3.7",
          "3.7",
          "3.7",
          "3.7",
          "4",
          "4",
          "3.4",
          "3.4",
          "3.4",
          "3.9",
          "3.9",
          "3.7",
          "3.7",
          "3.9",
          "3.9",
          "3.9",
          "3.9",
          "3.9",
          "3.9",
          "3.9",
          "3.9",
          "4.2",
          "4.2",
          "3.9",
          "4.2",
          "4.1",
          "4.1",
          "4.1",
          "4.3",
          "4.3",
          "4.3",
          "4",
          "4",
          "4",
          "4",
          "3.2",
          "3.1",
          "3.1",
          "3.6",
          "4",
          "4",
          "4",
          "4",
          "4",
          "4.2",
          "4.2",
          "3.9",
          "3.9",
          "3.9",
          "3.4",
          "3.4",
          "3.4",
          "3.4",
          "3.4",
          "3.4",
          "3.9",
          "3.9",
          "3.6",
          "3.6",
          "3.6",
          "3.5",
          "3.5",
          "3.5",
          "3.3",
          "3.3",
          "3.3",
          "3.7",
          "3.7",
          "2.7",
          "2.7",
          "2.7",
          "2.7",
          "3.1",
          "3.1",
          "3.1",
          "4.1",
          "4.1",
          "4.1",
          "4.5",
          "4.5",
          "4.5",
          "3.3",
          "3.3",
          "3.5",
          "3.5",
          "4.3",
          "4",
          "4",
          "4.1",
          "4.1",
          "4.1",
          "4.1",
          "3.9",
          "4.8",
          "3.6",
          "3.6",
          "3.6",
          "3.6",
          "3.6",
          "3.6",
          "3.6",
          "4.3",
          "4.3",
          "3.5",
          "3.5",
          "3.5",
          "3.5",
          "3.5",
          "4",
          "4",
          "4",
          "4",
          "4.2",
          "4.2",
          "3.7",
          "3.7",
          "3.7",
          "4.3",
          "4.1",
          "4.1",
          "4.1",
          "3.9",
          "3.9",
          "3.9",
          "3.9",
          "3.9",
          "3.9",
          "3.9",
          "3.9",
          "3.1",
          "3.1",
          "3.1",
          "3.1",
          "3.1",
          "3.9",
          "3.9",
          "3.5",
          "3.5",
          "3.5",
          "4.1",
          "4.1",
          "4.1",
          "4.1",
          "4.1",
          "4.1",
          "3.9",
          "3.9",
          "3.4",
          "3.4",
          "3.4",
          "4.1",
          "4.1",
          "4.1",
          "4.1",
          "4",
          "4",
          "4",
          "4",
          "4",
          "4",
          "4",
          "4",
          "4",
          "3.8",
          "3.9",
          "3.9",
          "3.9",
          "3.9",
          "3.9",
          "3.4",
          "3.4",
          "3.4",
          "4.1",
          "4.1",
          "4.1",
          "3.7",
          "3.9",
          "3.9",
          "3.9",
          "3.9",
          "3.9",
          "3.9",
          "3.9",
          "4",
          "4",
          "4",
          "3.8",
          "3.8",
          "3.8",
          "3.8",
          "3.8",
          "3.8",
          "3.8",
          "3.8",
          "3.8",
          "3.9",
          "3.9",
          "3.9",
          "3.6",
          "3.6",
          "3.6",
          "3.6",
          "3.6",
          "3.6",
          "3.6",
          "3.7",
          "3.5",
          "3.5",
          "3.5",
          "3.7",
          "3.5",
          "3.5",
          "3.5",
          "3.2",
          "3.2",
          "3.2",
          "3.2",
          "3.2",
          "2.8",
          "2.8",
          "2.8",
          "2.5",
          "2.5",
          "2.5",
          "2.5",
          "3.9",
          "4.1",
          "4.1",
          "4.1",
          "4.1",
          "4.2",
          "4.5",
          "4.5",
          "4.5",
          "3.7",
          "3.7",
          "3.7",
          "3.7",
          "3.7",
          "3.9",
          "3.4",
          "3.4",
          "3.5",
          "3.5",
          "3.5",
          "4",
          "4",
          "4",
          "3.1",
          "3.1",
          "3.1",
          "3.7",
          "3.7",
          "3.7",
          "3.3",
          "3.3",
          "4.1",
          "4.5",
          "4",
          "4",
          "4",
          "4",
          "4",
          "3.9",
          "3.9",
          "4.2",
          "4.2",
          "4.2",
          "4.5",
          "4.5",
          "4.5",
          "4.5",
          "4.3",
          "4.3",
          "4.3",
          "4.1",
          "4.1",
          "4.2",
          "4.2",
          "4.2",
          "4.8",
          "4.8",
          "4.8",
          "4.8",
          "4.8",
          "4.3",
          "4.3",
          "4.3",
          "3.8",
          "3.2",
          "3.2",
          "3.2",
          "3.2",
          "3.2",
          "3.6",
          "3.6",
          "4.2",
          "4.2",
          "4.2",
          "3.9",
          "3.9",
          "3.9",
          "3.9",
          "3.8",
          "3.8",
          "4",
          "4",
          "4",
          "4",
          "3.7",
          "3.7",
          "4.2",
          "4.2",
          "2.9",
          "2.9",
          "2.9",
          "4.3",
          "4.3",
          "4.4",
          "4.4",
          "3.5",
          "3.5",
          "2.7",
          "2.7",
          "2.7",
          "3.5",
          "3.5",
          "3.5",
          "3.5",
          "3.5",
          "3",
          "3",
          "3",
          "2.6",
          "2.6",
          "4.1",
          "4.1",
          "4.1",
          "4",
          "4",
          "3.6",
          "3.6",
          "3.6",
          "3.6",
          "3.8",
          "3.8",
          "3.8",
          "3.8",
          "3.8",
          "3.8",
          "3.8",
          "3.8",
          "3.8",
          "4",
          "4",
          "3.8",
          "3.8",
          "3.8",
          "3.8",
          "3",
          "3",
          "3",
          "3.7",
          "3.7",
          "3.9",
          "3.9",
          "3.9",
          "3.5",
          "3.5",
          "3.4",
          "3.4",
          "3.4",
          "3.6",
          "3.3",
          "3.3",
          "2.9",
          "2.9",
          "3.9",
          "3.9",
          "3.3",
          "3.3",
          "4.3",
          "3.8",
          "3.8",
          "3.3",
          "3.9",
          "4.2",
          "4.2",
          "4.2",
          "3",
          "3",
          "3",
          "3.7",
          "4.1",
          "4.4",
          "4.4",
          "4.3",
          "4.3",
          "4.3",
          "4.3",
          "4.3",
          "4.1",
          "4.1",
          "2.7",
          "2.7",
          "2.7",
          "2.7",
          "4.3",
          "4.3",
          "4.3",
          "4.2",
          "4.2",
          "4.2",
          "3.5",
          "3.5",
          "3.5",
          "3.4",
          "3.4",
          "3.4",
          "3.4",
          "3.4",
          "4.5",
          "4.5",
          "4.5",
          "4.3",
          "4.3",
          "3.9",
          "3.9",
          "3.9",
          "3.8",
          "3.7",
          "3.8",
          "3.8",
          "3.8",
          "3.7",
          "3.7",
          "3.7",
          "3.8",
          "3.7",
          "3.7",
          "4",
          "3.7",
          "3.7",
          "3.7",
          "3.7",
          "4.2",
          "4.2",
          "4.2",
          "4.2",
          "4.2",
          "4.1",
          "4.1",
          "4.4",
          "4.2",
          "4",
          "4",
          "4",
          "4",
          "4.3",
          "4.2",
          "4.2",
          "4.2",
          "3.2",
          "3.2",
          "3.2",
          "3.2",
          "4",
          "4",
          "4",
          "4",
          "3.9",
          "3.8",
          "4.5",
          "4.2",
          "3",
          "3",
          "3",
          "3.7",
          "3.7",
          "3.7",
          "4",
          "4",
          "4",
          "3.3",
          "3.3",
          "3.3",
          "3.9",
          "3.9",
          "3.7",
          "3.7",
          "3.7",
          "3.7",
          "3.7",
          "3",
          "3",
          "3",
          "3.1",
          "3.1",
          "3.1",
          "3.1",
          "3.1",
          "3.3",
          "3.3",
          "3.3",
          "4.2",
          "4.3",
          "4",
          "4.1",
          "4.1",
          "4.1",
          "4.2",
          "4.2",
          "4.2",
          "4",
          "4",
          "3.8",
          "3.8",
          "3.8",
          "3.8",
          "3.8",
          "4",
          "4",
          "4.2",
          "4.2",
          "4.2",
          "4.2",
          "3.9",
          "3.9",
          "3",
          "3",
          "3",
          "3",
          "3.8",
          "3.8",
          "4.2",
          "4.2",
          "4",
          "4",
          "3.5",
          "3.5",
          "3.4",
          "3.4",
          "3.4",
          "3.4",
          "3.9",
          "3.9",
          "4",
          "4",
          "4.1",
          "4.1",
          "4.1",
          "3.5",
          "3.5",
          "3.5",
          "3.5"
         ],
         "xaxis": "x",
         "yaxis": "y"
        }
       ],
       "layout": {
        "barmode": "relative",
        "legend": {
         "tracegroupgap": 0
        },
        "margin": {
         "t": 60
        },
        "template": {
         "data": {
          "bar": [
           {
            "error_x": {
             "color": "#2a3f5f"
            },
            "error_y": {
             "color": "#2a3f5f"
            },
            "marker": {
             "line": {
              "color": "#E5ECF6",
              "width": 0.5
             },
             "pattern": {
              "fillmode": "overlay",
              "size": 10,
              "solidity": 0.2
             }
            },
            "type": "bar"
           }
          ],
          "barpolar": [
           {
            "marker": {
             "line": {
              "color": "#E5ECF6",
              "width": 0.5
             },
             "pattern": {
              "fillmode": "overlay",
              "size": 10,
              "solidity": 0.2
             }
            },
            "type": "barpolar"
           }
          ],
          "carpet": [
           {
            "aaxis": {
             "endlinecolor": "#2a3f5f",
             "gridcolor": "white",
             "linecolor": "white",
             "minorgridcolor": "white",
             "startlinecolor": "#2a3f5f"
            },
            "baxis": {
             "endlinecolor": "#2a3f5f",
             "gridcolor": "white",
             "linecolor": "white",
             "minorgridcolor": "white",
             "startlinecolor": "#2a3f5f"
            },
            "type": "carpet"
           }
          ],
          "choropleth": [
           {
            "colorbar": {
             "outlinewidth": 0,
             "ticks": ""
            },
            "type": "choropleth"
           }
          ],
          "contour": [
           {
            "colorbar": {
             "outlinewidth": 0,
             "ticks": ""
            },
            "colorscale": [
             [
              0.0,
              "#0d0887"
             ],
             [
              0.1111111111111111,
              "#46039f"
             ],
             [
              0.2222222222222222,
              "#7201a8"
             ],
             [
              0.3333333333333333,
              "#9c179e"
             ],
             [
              0.4444444444444444,
              "#bd3786"
             ],
             [
              0.5555555555555556,
              "#d8576b"
             ],
             [
              0.6666666666666666,
              "#ed7953"
             ],
             [
              0.7777777777777778,
              "#fb9f3a"
             ],
             [
              0.8888888888888888,
              "#fdca26"
             ],
             [
              1.0,
              "#f0f921"
             ]
            ],
            "type": "contour"
           }
          ],
          "contourcarpet": [
           {
            "colorbar": {
             "outlinewidth": 0,
             "ticks": ""
            },
            "type": "contourcarpet"
           }
          ],
          "heatmap": [
           {
            "colorbar": {
             "outlinewidth": 0,
             "ticks": ""
            },
            "colorscale": [
             [
              0.0,
              "#0d0887"
             ],
             [
              0.1111111111111111,
              "#46039f"
             ],
             [
              0.2222222222222222,
              "#7201a8"
             ],
             [
              0.3333333333333333,
              "#9c179e"
             ],
             [
              0.4444444444444444,
              "#bd3786"
             ],
             [
              0.5555555555555556,
              "#d8576b"
             ],
             [
              0.6666666666666666,
              "#ed7953"
             ],
             [
              0.7777777777777778,
              "#fb9f3a"
             ],
             [
              0.8888888888888888,
              "#fdca26"
             ],
             [
              1.0,
              "#f0f921"
             ]
            ],
            "type": "heatmap"
           }
          ],
          "heatmapgl": [
           {
            "colorbar": {
             "outlinewidth": 0,
             "ticks": ""
            },
            "colorscale": [
             [
              0.0,
              "#0d0887"
             ],
             [
              0.1111111111111111,
              "#46039f"
             ],
             [
              0.2222222222222222,
              "#7201a8"
             ],
             [
              0.3333333333333333,
              "#9c179e"
             ],
             [
              0.4444444444444444,
              "#bd3786"
             ],
             [
              0.5555555555555556,
              "#d8576b"
             ],
             [
              0.6666666666666666,
              "#ed7953"
             ],
             [
              0.7777777777777778,
              "#fb9f3a"
             ],
             [
              0.8888888888888888,
              "#fdca26"
             ],
             [
              1.0,
              "#f0f921"
             ]
            ],
            "type": "heatmapgl"
           }
          ],
          "histogram": [
           {
            "marker": {
             "pattern": {
              "fillmode": "overlay",
              "size": 10,
              "solidity": 0.2
             }
            },
            "type": "histogram"
           }
          ],
          "histogram2d": [
           {
            "colorbar": {
             "outlinewidth": 0,
             "ticks": ""
            },
            "colorscale": [
             [
              0.0,
              "#0d0887"
             ],
             [
              0.1111111111111111,
              "#46039f"
             ],
             [
              0.2222222222222222,
              "#7201a8"
             ],
             [
              0.3333333333333333,
              "#9c179e"
             ],
             [
              0.4444444444444444,
              "#bd3786"
             ],
             [
              0.5555555555555556,
              "#d8576b"
             ],
             [
              0.6666666666666666,
              "#ed7953"
             ],
             [
              0.7777777777777778,
              "#fb9f3a"
             ],
             [
              0.8888888888888888,
              "#fdca26"
             ],
             [
              1.0,
              "#f0f921"
             ]
            ],
            "type": "histogram2d"
           }
          ],
          "histogram2dcontour": [
           {
            "colorbar": {
             "outlinewidth": 0,
             "ticks": ""
            },
            "colorscale": [
             [
              0.0,
              "#0d0887"
             ],
             [
              0.1111111111111111,
              "#46039f"
             ],
             [
              0.2222222222222222,
              "#7201a8"
             ],
             [
              0.3333333333333333,
              "#9c179e"
             ],
             [
              0.4444444444444444,
              "#bd3786"
             ],
             [
              0.5555555555555556,
              "#d8576b"
             ],
             [
              0.6666666666666666,
              "#ed7953"
             ],
             [
              0.7777777777777778,
              "#fb9f3a"
             ],
             [
              0.8888888888888888,
              "#fdca26"
             ],
             [
              1.0,
              "#f0f921"
             ]
            ],
            "type": "histogram2dcontour"
           }
          ],
          "mesh3d": [
           {
            "colorbar": {
             "outlinewidth": 0,
             "ticks": ""
            },
            "type": "mesh3d"
           }
          ],
          "parcoords": [
           {
            "line": {
             "colorbar": {
              "outlinewidth": 0,
              "ticks": ""
             }
            },
            "type": "parcoords"
           }
          ],
          "pie": [
           {
            "automargin": true,
            "type": "pie"
           }
          ],
          "scatter": [
           {
            "fillpattern": {
             "fillmode": "overlay",
             "size": 10,
             "solidity": 0.2
            },
            "type": "scatter"
           }
          ],
          "scatter3d": [
           {
            "line": {
             "colorbar": {
              "outlinewidth": 0,
              "ticks": ""
             }
            },
            "marker": {
             "colorbar": {
              "outlinewidth": 0,
              "ticks": ""
             }
            },
            "type": "scatter3d"
           }
          ],
          "scattercarpet": [
           {
            "marker": {
             "colorbar": {
              "outlinewidth": 0,
              "ticks": ""
             }
            },
            "type": "scattercarpet"
           }
          ],
          "scattergeo": [
           {
            "marker": {
             "colorbar": {
              "outlinewidth": 0,
              "ticks": ""
             }
            },
            "type": "scattergeo"
           }
          ],
          "scattergl": [
           {
            "marker": {
             "colorbar": {
              "outlinewidth": 0,
              "ticks": ""
             }
            },
            "type": "scattergl"
           }
          ],
          "scattermapbox": [
           {
            "marker": {
             "colorbar": {
              "outlinewidth": 0,
              "ticks": ""
             }
            },
            "type": "scattermapbox"
           }
          ],
          "scatterpolar": [
           {
            "marker": {
             "colorbar": {
              "outlinewidth": 0,
              "ticks": ""
             }
            },
            "type": "scatterpolar"
           }
          ],
          "scatterpolargl": [
           {
            "marker": {
             "colorbar": {
              "outlinewidth": 0,
              "ticks": ""
             }
            },
            "type": "scatterpolargl"
           }
          ],
          "scatterternary": [
           {
            "marker": {
             "colorbar": {
              "outlinewidth": 0,
              "ticks": ""
             }
            },
            "type": "scatterternary"
           }
          ],
          "surface": [
           {
            "colorbar": {
             "outlinewidth": 0,
             "ticks": ""
            },
            "colorscale": [
             [
              0.0,
              "#0d0887"
             ],
             [
              0.1111111111111111,
              "#46039f"
             ],
             [
              0.2222222222222222,
              "#7201a8"
             ],
             [
              0.3333333333333333,
              "#9c179e"
             ],
             [
              0.4444444444444444,
              "#bd3786"
             ],
             [
              0.5555555555555556,
              "#d8576b"
             ],
             [
              0.6666666666666666,
              "#ed7953"
             ],
             [
              0.7777777777777778,
              "#fb9f3a"
             ],
             [
              0.8888888888888888,
              "#fdca26"
             ],
             [
              1.0,
              "#f0f921"
             ]
            ],
            "type": "surface"
           }
          ],
          "table": [
           {
            "cells": {
             "fill": {
              "color": "#EBF0F8"
             },
             "line": {
              "color": "white"
             }
            },
            "header": {
             "fill": {
              "color": "#C8D4E3"
             },
             "line": {
              "color": "white"
             }
            },
            "type": "table"
           }
          ]
         },
         "layout": {
          "annotationdefaults": {
           "arrowcolor": "#2a3f5f",
           "arrowhead": 0,
           "arrowwidth": 1
          },
          "autotypenumbers": "strict",
          "coloraxis": {
           "colorbar": {
            "outlinewidth": 0,
            "ticks": ""
           }
          },
          "colorscale": {
           "diverging": [
            [
             0,
             "#8e0152"
            ],
            [
             0.1,
             "#c51b7d"
            ],
            [
             0.2,
             "#de77ae"
            ],
            [
             0.3,
             "#f1b6da"
            ],
            [
             0.4,
             "#fde0ef"
            ],
            [
             0.5,
             "#f7f7f7"
            ],
            [
             0.6,
             "#e6f5d0"
            ],
            [
             0.7,
             "#b8e186"
            ],
            [
             0.8,
             "#7fbc41"
            ],
            [
             0.9,
             "#4d9221"
            ],
            [
             1,
             "#276419"
            ]
           ],
           "sequential": [
            [
             0.0,
             "#0d0887"
            ],
            [
             0.1111111111111111,
             "#46039f"
            ],
            [
             0.2222222222222222,
             "#7201a8"
            ],
            [
             0.3333333333333333,
             "#9c179e"
            ],
            [
             0.4444444444444444,
             "#bd3786"
            ],
            [
             0.5555555555555556,
             "#d8576b"
            ],
            [
             0.6666666666666666,
             "#ed7953"
            ],
            [
             0.7777777777777778,
             "#fb9f3a"
            ],
            [
             0.8888888888888888,
             "#fdca26"
            ],
            [
             1.0,
             "#f0f921"
            ]
           ],
           "sequentialminus": [
            [
             0.0,
             "#0d0887"
            ],
            [
             0.1111111111111111,
             "#46039f"
            ],
            [
             0.2222222222222222,
             "#7201a8"
            ],
            [
             0.3333333333333333,
             "#9c179e"
            ],
            [
             0.4444444444444444,
             "#bd3786"
            ],
            [
             0.5555555555555556,
             "#d8576b"
            ],
            [
             0.6666666666666666,
             "#ed7953"
            ],
            [
             0.7777777777777778,
             "#fb9f3a"
            ],
            [
             0.8888888888888888,
             "#fdca26"
            ],
            [
             1.0,
             "#f0f921"
            ]
           ]
          },
          "colorway": [
           "#636efa",
           "#EF553B",
           "#00cc96",
           "#ab63fa",
           "#FFA15A",
           "#19d3f3",
           "#FF6692",
           "#B6E880",
           "#FF97FF",
           "#FECB52"
          ],
          "font": {
           "color": "#2a3f5f"
          },
          "geo": {
           "bgcolor": "white",
           "lakecolor": "white",
           "landcolor": "#E5ECF6",
           "showlakes": true,
           "showland": true,
           "subunitcolor": "white"
          },
          "hoverlabel": {
           "align": "left"
          },
          "hovermode": "closest",
          "mapbox": {
           "style": "light"
          },
          "paper_bgcolor": "white",
          "plot_bgcolor": "#E5ECF6",
          "polar": {
           "angularaxis": {
            "gridcolor": "white",
            "linecolor": "white",
            "ticks": ""
           },
           "bgcolor": "#E5ECF6",
           "radialaxis": {
            "gridcolor": "white",
            "linecolor": "white",
            "ticks": ""
           }
          },
          "scene": {
           "xaxis": {
            "backgroundcolor": "#E5ECF6",
            "gridcolor": "white",
            "gridwidth": 2,
            "linecolor": "white",
            "showbackground": true,
            "ticks": "",
            "zerolinecolor": "white"
           },
           "yaxis": {
            "backgroundcolor": "#E5ECF6",
            "gridcolor": "white",
            "gridwidth": 2,
            "linecolor": "white",
            "showbackground": true,
            "ticks": "",
            "zerolinecolor": "white"
           },
           "zaxis": {
            "backgroundcolor": "#E5ECF6",
            "gridcolor": "white",
            "gridwidth": 2,
            "linecolor": "white",
            "showbackground": true,
            "ticks": "",
            "zerolinecolor": "white"
           }
          },
          "shapedefaults": {
           "line": {
            "color": "#2a3f5f"
           }
          },
          "ternary": {
           "aaxis": {
            "gridcolor": "white",
            "linecolor": "white",
            "ticks": ""
           },
           "baxis": {
            "gridcolor": "white",
            "linecolor": "white",
            "ticks": ""
           },
           "bgcolor": "#E5ECF6",
           "caxis": {
            "gridcolor": "white",
            "linecolor": "white",
            "ticks": ""
           }
          },
          "title": {
           "x": 0.05
          },
          "xaxis": {
           "automargin": true,
           "gridcolor": "white",
           "linecolor": "white",
           "ticks": "",
           "title": {
            "standoff": 15
           },
           "zerolinecolor": "white",
           "zerolinewidth": 2
          },
          "yaxis": {
           "automargin": true,
           "gridcolor": "white",
           "linecolor": "white",
           "ticks": "",
           "title": {
            "standoff": 15
           },
           "zerolinecolor": "white",
           "zerolinewidth": 2
          }
         }
        },
        "title": {
         "text": "Overall_Rating"
        },
        "xaxis": {
         "anchor": "y",
         "domain": [
          0.0,
          1.0
         ],
         "title": {
          "text": "Overall_Rating"
         }
        },
        "yaxis": {
         "anchor": "x",
         "domain": [
          0.0,
          1.0
         ],
         "title": {
          "text": "count"
         }
        }
       }
      },
      "text/html": [
       "<div>                            <div id=\"9b26d5af-664d-4b54-ab28-9b56b447f1af\" class=\"plotly-graph-div\" style=\"height:525px; width:100%;\"></div>            <script type=\"text/javascript\">                require([\"plotly\"], function(Plotly) {                    window.PLOTLYENV=window.PLOTLYENV || {};                                    if (document.getElementById(\"9b26d5af-664d-4b54-ab28-9b56b447f1af\")) {                    Plotly.newPlot(                        \"9b26d5af-664d-4b54-ab28-9b56b447f1af\",                        [{\"alignmentgroup\":\"True\",\"bingroup\":\"x\",\"hovertemplate\":\"Overall_Rating=%{x}\\u003cbr\\u003ecount=%{y}\\u003cextra\\u003e\\u003c\\u002fextra\\u003e\",\"legendgroup\":\"\",\"marker\":{\"color\":\"#636efa\",\"pattern\":{\"shape\":\"\"}},\"name\":\"\",\"offsetgroup\":\"\",\"orientation\":\"v\",\"showlegend\":false,\"x\":[\"3.9\",\"3.9\",\"3\",\"3.8\",\"3.8\",\"4.3\",\"4.3\",\"3.7\",\"4.8\",\"4.1\",\"4.1\",\"4.1\",\"4\",\"3.9\",\"3.9\",\"4.2\",\"4.2\",\"4.2\",\"4\",\"4\",\"4\",\"4\",\"3.6\",\"3.8\",\"3.8\",\"3\",\"3.9\",\"3.9\",\"3.9\",\"3.9\",\"4.4\",\"4.4\",\"4.4\",\"3.5\",\"3.5\",\"4\",\"4\",\"4.1\",\"3.9\",\"3.9\",\"3.9\",\"3.4\",\"3.4\",\"3.4\",\"4.2\",\"4.2\",\"4.1\",\"3.9\",\"3.1\",\"3.1\",\"3.1\",\"3.3\",\"3.3\",\"3.3\",\"3.3\",\"3.3\",\"3.9\",\"3.9\",\"3.9\",\"3.9\",\"3.9\",\"3.9\",\"3.6\",\"3.6\",\"3.9\",\"3.5\",\"3.5\",\"4.1\",\"3.6\",\"3.6\",\"3.2\",\"3.2\",\"3.2\",\"4.5\",\"4.5\",\"4.5\",\"4.3\",\"4.3\",\"4.3\",\"4.3\",\"4.3\",\"3.7\",\"3.7\",\"3.7\",\"4.9\",\"4.9\",\"4.9\",\"4.1\",\"4.1\",\"4.1\",\"3.9\",\"3.9\",\"3.9\",\"3.9\",\"3.9\",\"4\",\"4\",\"4\",\"4\",\"4\",\"2.8\",\"2.8\",\"2.8\",\"3.7\",\"3.7\",\"3.7\",\"3.7\",\"4\",\"4\",\"3.4\",\"3.4\",\"3.4\",\"3.9\",\"3.9\",\"3.7\",\"3.7\",\"3.9\",\"3.9\",\"3.9\",\"3.9\",\"3.9\",\"3.9\",\"3.9\",\"3.9\",\"4.2\",\"4.2\",\"3.9\",\"4.2\",\"4.1\",\"4.1\",\"4.1\",\"4.3\",\"4.3\",\"4.3\",\"4\",\"4\",\"4\",\"4\",\"3.2\",\"3.1\",\"3.1\",\"3.6\",\"4\",\"4\",\"4\",\"4\",\"4\",\"4.2\",\"4.2\",\"3.9\",\"3.9\",\"3.9\",\"3.4\",\"3.4\",\"3.4\",\"3.4\",\"3.4\",\"3.4\",\"3.9\",\"3.9\",\"3.6\",\"3.6\",\"3.6\",\"3.5\",\"3.5\",\"3.5\",\"3.3\",\"3.3\",\"3.3\",\"3.7\",\"3.7\",\"2.7\",\"2.7\",\"2.7\",\"2.7\",\"3.1\",\"3.1\",\"3.1\",\"4.1\",\"4.1\",\"4.1\",\"4.5\",\"4.5\",\"4.5\",\"3.3\",\"3.3\",\"3.5\",\"3.5\",\"4.3\",\"4\",\"4\",\"4.1\",\"4.1\",\"4.1\",\"4.1\",\"3.9\",\"4.8\",\"3.6\",\"3.6\",\"3.6\",\"3.6\",\"3.6\",\"3.6\",\"3.6\",\"4.3\",\"4.3\",\"3.5\",\"3.5\",\"3.5\",\"3.5\",\"3.5\",\"4\",\"4\",\"4\",\"4\",\"4.2\",\"4.2\",\"3.7\",\"3.7\",\"3.7\",\"4.3\",\"4.1\",\"4.1\",\"4.1\",\"3.9\",\"3.9\",\"3.9\",\"3.9\",\"3.9\",\"3.9\",\"3.9\",\"3.9\",\"3.1\",\"3.1\",\"3.1\",\"3.1\",\"3.1\",\"3.9\",\"3.9\",\"3.5\",\"3.5\",\"3.5\",\"4.1\",\"4.1\",\"4.1\",\"4.1\",\"4.1\",\"4.1\",\"3.9\",\"3.9\",\"3.4\",\"3.4\",\"3.4\",\"4.1\",\"4.1\",\"4.1\",\"4.1\",\"4\",\"4\",\"4\",\"4\",\"4\",\"4\",\"4\",\"4\",\"4\",\"3.8\",\"3.9\",\"3.9\",\"3.9\",\"3.9\",\"3.9\",\"3.4\",\"3.4\",\"3.4\",\"4.1\",\"4.1\",\"4.1\",\"3.7\",\"3.9\",\"3.9\",\"3.9\",\"3.9\",\"3.9\",\"3.9\",\"3.9\",\"4\",\"4\",\"4\",\"3.8\",\"3.8\",\"3.8\",\"3.8\",\"3.8\",\"3.8\",\"3.8\",\"3.8\",\"3.8\",\"3.9\",\"3.9\",\"3.9\",\"3.6\",\"3.6\",\"3.6\",\"3.6\",\"3.6\",\"3.6\",\"3.6\",\"3.7\",\"3.5\",\"3.5\",\"3.5\",\"3.7\",\"3.5\",\"3.5\",\"3.5\",\"3.2\",\"3.2\",\"3.2\",\"3.2\",\"3.2\",\"2.8\",\"2.8\",\"2.8\",\"2.5\",\"2.5\",\"2.5\",\"2.5\",\"3.9\",\"4.1\",\"4.1\",\"4.1\",\"4.1\",\"4.2\",\"4.5\",\"4.5\",\"4.5\",\"3.7\",\"3.7\",\"3.7\",\"3.7\",\"3.7\",\"3.9\",\"3.4\",\"3.4\",\"3.5\",\"3.5\",\"3.5\",\"4\",\"4\",\"4\",\"3.1\",\"3.1\",\"3.1\",\"3.7\",\"3.7\",\"3.7\",\"3.3\",\"3.3\",\"4.1\",\"4.5\",\"4\",\"4\",\"4\",\"4\",\"4\",\"3.9\",\"3.9\",\"4.2\",\"4.2\",\"4.2\",\"4.5\",\"4.5\",\"4.5\",\"4.5\",\"4.3\",\"4.3\",\"4.3\",\"4.1\",\"4.1\",\"4.2\",\"4.2\",\"4.2\",\"4.8\",\"4.8\",\"4.8\",\"4.8\",\"4.8\",\"4.3\",\"4.3\",\"4.3\",\"3.8\",\"3.2\",\"3.2\",\"3.2\",\"3.2\",\"3.2\",\"3.6\",\"3.6\",\"4.2\",\"4.2\",\"4.2\",\"3.9\",\"3.9\",\"3.9\",\"3.9\",\"3.8\",\"3.8\",\"4\",\"4\",\"4\",\"4\",\"3.7\",\"3.7\",\"4.2\",\"4.2\",\"2.9\",\"2.9\",\"2.9\",\"4.3\",\"4.3\",\"4.4\",\"4.4\",\"3.5\",\"3.5\",\"2.7\",\"2.7\",\"2.7\",\"3.5\",\"3.5\",\"3.5\",\"3.5\",\"3.5\",\"3\",\"3\",\"3\",\"2.6\",\"2.6\",\"4.1\",\"4.1\",\"4.1\",\"4\",\"4\",\"3.6\",\"3.6\",\"3.6\",\"3.6\",\"3.8\",\"3.8\",\"3.8\",\"3.8\",\"3.8\",\"3.8\",\"3.8\",\"3.8\",\"3.8\",\"4\",\"4\",\"3.8\",\"3.8\",\"3.8\",\"3.8\",\"3\",\"3\",\"3\",\"3.7\",\"3.7\",\"3.9\",\"3.9\",\"3.9\",\"3.5\",\"3.5\",\"3.4\",\"3.4\",\"3.4\",\"3.6\",\"3.3\",\"3.3\",\"2.9\",\"2.9\",\"3.9\",\"3.9\",\"3.3\",\"3.3\",\"4.3\",\"3.8\",\"3.8\",\"3.3\",\"3.9\",\"4.2\",\"4.2\",\"4.2\",\"3\",\"3\",\"3\",\"3.7\",\"4.1\",\"4.4\",\"4.4\",\"4.3\",\"4.3\",\"4.3\",\"4.3\",\"4.3\",\"4.1\",\"4.1\",\"2.7\",\"2.7\",\"2.7\",\"2.7\",\"4.3\",\"4.3\",\"4.3\",\"4.2\",\"4.2\",\"4.2\",\"3.5\",\"3.5\",\"3.5\",\"3.4\",\"3.4\",\"3.4\",\"3.4\",\"3.4\",\"4.5\",\"4.5\",\"4.5\",\"4.3\",\"4.3\",\"3.9\",\"3.9\",\"3.9\",\"3.8\",\"3.7\",\"3.8\",\"3.8\",\"3.8\",\"3.7\",\"3.7\",\"3.7\",\"3.8\",\"3.7\",\"3.7\",\"4\",\"3.7\",\"3.7\",\"3.7\",\"3.7\",\"4.2\",\"4.2\",\"4.2\",\"4.2\",\"4.2\",\"4.1\",\"4.1\",\"4.4\",\"4.2\",\"4\",\"4\",\"4\",\"4\",\"4.3\",\"4.2\",\"4.2\",\"4.2\",\"3.2\",\"3.2\",\"3.2\",\"3.2\",\"4\",\"4\",\"4\",\"4\",\"3.9\",\"3.8\",\"4.5\",\"4.2\",\"3\",\"3\",\"3\",\"3.7\",\"3.7\",\"3.7\",\"4\",\"4\",\"4\",\"3.3\",\"3.3\",\"3.3\",\"3.9\",\"3.9\",\"3.7\",\"3.7\",\"3.7\",\"3.7\",\"3.7\",\"3\",\"3\",\"3\",\"3.1\",\"3.1\",\"3.1\",\"3.1\",\"3.1\",\"3.3\",\"3.3\",\"3.3\",\"4.2\",\"4.3\",\"4\",\"4.1\",\"4.1\",\"4.1\",\"4.2\",\"4.2\",\"4.2\",\"4\",\"4\",\"3.8\",\"3.8\",\"3.8\",\"3.8\",\"3.8\",\"4\",\"4\",\"4.2\",\"4.2\",\"4.2\",\"4.2\",\"3.9\",\"3.9\",\"3\",\"3\",\"3\",\"3\",\"3.8\",\"3.8\",\"4.2\",\"4.2\",\"4\",\"4\",\"3.5\",\"3.5\",\"3.4\",\"3.4\",\"3.4\",\"3.4\",\"3.9\",\"3.9\",\"4\",\"4\",\"4.1\",\"4.1\",\"4.1\",\"3.5\",\"3.5\",\"3.5\",\"3.5\"],\"xaxis\":\"x\",\"yaxis\":\"y\",\"type\":\"histogram\"}],                        {\"template\":{\"data\":{\"histogram2dcontour\":[{\"type\":\"histogram2dcontour\",\"colorbar\":{\"outlinewidth\":0,\"ticks\":\"\"},\"colorscale\":[[0.0,\"#0d0887\"],[0.1111111111111111,\"#46039f\"],[0.2222222222222222,\"#7201a8\"],[0.3333333333333333,\"#9c179e\"],[0.4444444444444444,\"#bd3786\"],[0.5555555555555556,\"#d8576b\"],[0.6666666666666666,\"#ed7953\"],[0.7777777777777778,\"#fb9f3a\"],[0.8888888888888888,\"#fdca26\"],[1.0,\"#f0f921\"]]}],\"choropleth\":[{\"type\":\"choropleth\",\"colorbar\":{\"outlinewidth\":0,\"ticks\":\"\"}}],\"histogram2d\":[{\"type\":\"histogram2d\",\"colorbar\":{\"outlinewidth\":0,\"ticks\":\"\"},\"colorscale\":[[0.0,\"#0d0887\"],[0.1111111111111111,\"#46039f\"],[0.2222222222222222,\"#7201a8\"],[0.3333333333333333,\"#9c179e\"],[0.4444444444444444,\"#bd3786\"],[0.5555555555555556,\"#d8576b\"],[0.6666666666666666,\"#ed7953\"],[0.7777777777777778,\"#fb9f3a\"],[0.8888888888888888,\"#fdca26\"],[1.0,\"#f0f921\"]]}],\"heatmap\":[{\"type\":\"heatmap\",\"colorbar\":{\"outlinewidth\":0,\"ticks\":\"\"},\"colorscale\":[[0.0,\"#0d0887\"],[0.1111111111111111,\"#46039f\"],[0.2222222222222222,\"#7201a8\"],[0.3333333333333333,\"#9c179e\"],[0.4444444444444444,\"#bd3786\"],[0.5555555555555556,\"#d8576b\"],[0.6666666666666666,\"#ed7953\"],[0.7777777777777778,\"#fb9f3a\"],[0.8888888888888888,\"#fdca26\"],[1.0,\"#f0f921\"]]}],\"heatmapgl\":[{\"type\":\"heatmapgl\",\"colorbar\":{\"outlinewidth\":0,\"ticks\":\"\"},\"colorscale\":[[0.0,\"#0d0887\"],[0.1111111111111111,\"#46039f\"],[0.2222222222222222,\"#7201a8\"],[0.3333333333333333,\"#9c179e\"],[0.4444444444444444,\"#bd3786\"],[0.5555555555555556,\"#d8576b\"],[0.6666666666666666,\"#ed7953\"],[0.7777777777777778,\"#fb9f3a\"],[0.8888888888888888,\"#fdca26\"],[1.0,\"#f0f921\"]]}],\"contourcarpet\":[{\"type\":\"contourcarpet\",\"colorbar\":{\"outlinewidth\":0,\"ticks\":\"\"}}],\"contour\":[{\"type\":\"contour\",\"colorbar\":{\"outlinewidth\":0,\"ticks\":\"\"},\"colorscale\":[[0.0,\"#0d0887\"],[0.1111111111111111,\"#46039f\"],[0.2222222222222222,\"#7201a8\"],[0.3333333333333333,\"#9c179e\"],[0.4444444444444444,\"#bd3786\"],[0.5555555555555556,\"#d8576b\"],[0.6666666666666666,\"#ed7953\"],[0.7777777777777778,\"#fb9f3a\"],[0.8888888888888888,\"#fdca26\"],[1.0,\"#f0f921\"]]}],\"surface\":[{\"type\":\"surface\",\"colorbar\":{\"outlinewidth\":0,\"ticks\":\"\"},\"colorscale\":[[0.0,\"#0d0887\"],[0.1111111111111111,\"#46039f\"],[0.2222222222222222,\"#7201a8\"],[0.3333333333333333,\"#9c179e\"],[0.4444444444444444,\"#bd3786\"],[0.5555555555555556,\"#d8576b\"],[0.6666666666666666,\"#ed7953\"],[0.7777777777777778,\"#fb9f3a\"],[0.8888888888888888,\"#fdca26\"],[1.0,\"#f0f921\"]]}],\"mesh3d\":[{\"type\":\"mesh3d\",\"colorbar\":{\"outlinewidth\":0,\"ticks\":\"\"}}],\"scatter\":[{\"fillpattern\":{\"fillmode\":\"overlay\",\"size\":10,\"solidity\":0.2},\"type\":\"scatter\"}],\"parcoords\":[{\"type\":\"parcoords\",\"line\":{\"colorbar\":{\"outlinewidth\":0,\"ticks\":\"\"}}}],\"scatterpolargl\":[{\"type\":\"scatterpolargl\",\"marker\":{\"colorbar\":{\"outlinewidth\":0,\"ticks\":\"\"}}}],\"bar\":[{\"error_x\":{\"color\":\"#2a3f5f\"},\"error_y\":{\"color\":\"#2a3f5f\"},\"marker\":{\"line\":{\"color\":\"#E5ECF6\",\"width\":0.5},\"pattern\":{\"fillmode\":\"overlay\",\"size\":10,\"solidity\":0.2}},\"type\":\"bar\"}],\"scattergeo\":[{\"type\":\"scattergeo\",\"marker\":{\"colorbar\":{\"outlinewidth\":0,\"ticks\":\"\"}}}],\"scatterpolar\":[{\"type\":\"scatterpolar\",\"marker\":{\"colorbar\":{\"outlinewidth\":0,\"ticks\":\"\"}}}],\"histogram\":[{\"marker\":{\"pattern\":{\"fillmode\":\"overlay\",\"size\":10,\"solidity\":0.2}},\"type\":\"histogram\"}],\"scattergl\":[{\"type\":\"scattergl\",\"marker\":{\"colorbar\":{\"outlinewidth\":0,\"ticks\":\"\"}}}],\"scatter3d\":[{\"type\":\"scatter3d\",\"line\":{\"colorbar\":{\"outlinewidth\":0,\"ticks\":\"\"}},\"marker\":{\"colorbar\":{\"outlinewidth\":0,\"ticks\":\"\"}}}],\"scattermapbox\":[{\"type\":\"scattermapbox\",\"marker\":{\"colorbar\":{\"outlinewidth\":0,\"ticks\":\"\"}}}],\"scatterternary\":[{\"type\":\"scatterternary\",\"marker\":{\"colorbar\":{\"outlinewidth\":0,\"ticks\":\"\"}}}],\"scattercarpet\":[{\"type\":\"scattercarpet\",\"marker\":{\"colorbar\":{\"outlinewidth\":0,\"ticks\":\"\"}}}],\"carpet\":[{\"aaxis\":{\"endlinecolor\":\"#2a3f5f\",\"gridcolor\":\"white\",\"linecolor\":\"white\",\"minorgridcolor\":\"white\",\"startlinecolor\":\"#2a3f5f\"},\"baxis\":{\"endlinecolor\":\"#2a3f5f\",\"gridcolor\":\"white\",\"linecolor\":\"white\",\"minorgridcolor\":\"white\",\"startlinecolor\":\"#2a3f5f\"},\"type\":\"carpet\"}],\"table\":[{\"cells\":{\"fill\":{\"color\":\"#EBF0F8\"},\"line\":{\"color\":\"white\"}},\"header\":{\"fill\":{\"color\":\"#C8D4E3\"},\"line\":{\"color\":\"white\"}},\"type\":\"table\"}],\"barpolar\":[{\"marker\":{\"line\":{\"color\":\"#E5ECF6\",\"width\":0.5},\"pattern\":{\"fillmode\":\"overlay\",\"size\":10,\"solidity\":0.2}},\"type\":\"barpolar\"}],\"pie\":[{\"automargin\":true,\"type\":\"pie\"}]},\"layout\":{\"autotypenumbers\":\"strict\",\"colorway\":[\"#636efa\",\"#EF553B\",\"#00cc96\",\"#ab63fa\",\"#FFA15A\",\"#19d3f3\",\"#FF6692\",\"#B6E880\",\"#FF97FF\",\"#FECB52\"],\"font\":{\"color\":\"#2a3f5f\"},\"hovermode\":\"closest\",\"hoverlabel\":{\"align\":\"left\"},\"paper_bgcolor\":\"white\",\"plot_bgcolor\":\"#E5ECF6\",\"polar\":{\"bgcolor\":\"#E5ECF6\",\"angularaxis\":{\"gridcolor\":\"white\",\"linecolor\":\"white\",\"ticks\":\"\"},\"radialaxis\":{\"gridcolor\":\"white\",\"linecolor\":\"white\",\"ticks\":\"\"}},\"ternary\":{\"bgcolor\":\"#E5ECF6\",\"aaxis\":{\"gridcolor\":\"white\",\"linecolor\":\"white\",\"ticks\":\"\"},\"baxis\":{\"gridcolor\":\"white\",\"linecolor\":\"white\",\"ticks\":\"\"},\"caxis\":{\"gridcolor\":\"white\",\"linecolor\":\"white\",\"ticks\":\"\"}},\"coloraxis\":{\"colorbar\":{\"outlinewidth\":0,\"ticks\":\"\"}},\"colorscale\":{\"sequential\":[[0.0,\"#0d0887\"],[0.1111111111111111,\"#46039f\"],[0.2222222222222222,\"#7201a8\"],[0.3333333333333333,\"#9c179e\"],[0.4444444444444444,\"#bd3786\"],[0.5555555555555556,\"#d8576b\"],[0.6666666666666666,\"#ed7953\"],[0.7777777777777778,\"#fb9f3a\"],[0.8888888888888888,\"#fdca26\"],[1.0,\"#f0f921\"]],\"sequentialminus\":[[0.0,\"#0d0887\"],[0.1111111111111111,\"#46039f\"],[0.2222222222222222,\"#7201a8\"],[0.3333333333333333,\"#9c179e\"],[0.4444444444444444,\"#bd3786\"],[0.5555555555555556,\"#d8576b\"],[0.6666666666666666,\"#ed7953\"],[0.7777777777777778,\"#fb9f3a\"],[0.8888888888888888,\"#fdca26\"],[1.0,\"#f0f921\"]],\"diverging\":[[0,\"#8e0152\"],[0.1,\"#c51b7d\"],[0.2,\"#de77ae\"],[0.3,\"#f1b6da\"],[0.4,\"#fde0ef\"],[0.5,\"#f7f7f7\"],[0.6,\"#e6f5d0\"],[0.7,\"#b8e186\"],[0.8,\"#7fbc41\"],[0.9,\"#4d9221\"],[1,\"#276419\"]]},\"xaxis\":{\"gridcolor\":\"white\",\"linecolor\":\"white\",\"ticks\":\"\",\"title\":{\"standoff\":15},\"zerolinecolor\":\"white\",\"automargin\":true,\"zerolinewidth\":2},\"yaxis\":{\"gridcolor\":\"white\",\"linecolor\":\"white\",\"ticks\":\"\",\"title\":{\"standoff\":15},\"zerolinecolor\":\"white\",\"automargin\":true,\"zerolinewidth\":2},\"scene\":{\"xaxis\":{\"backgroundcolor\":\"#E5ECF6\",\"gridcolor\":\"white\",\"linecolor\":\"white\",\"showbackground\":true,\"ticks\":\"\",\"zerolinecolor\":\"white\",\"gridwidth\":2},\"yaxis\":{\"backgroundcolor\":\"#E5ECF6\",\"gridcolor\":\"white\",\"linecolor\":\"white\",\"showbackground\":true,\"ticks\":\"\",\"zerolinecolor\":\"white\",\"gridwidth\":2},\"zaxis\":{\"backgroundcolor\":\"#E5ECF6\",\"gridcolor\":\"white\",\"linecolor\":\"white\",\"showbackground\":true,\"ticks\":\"\",\"zerolinecolor\":\"white\",\"gridwidth\":2}},\"shapedefaults\":{\"line\":{\"color\":\"#2a3f5f\"}},\"annotationdefaults\":{\"arrowcolor\":\"#2a3f5f\",\"arrowhead\":0,\"arrowwidth\":1},\"geo\":{\"bgcolor\":\"white\",\"landcolor\":\"#E5ECF6\",\"subunitcolor\":\"white\",\"showland\":true,\"showlakes\":true,\"lakecolor\":\"white\"},\"title\":{\"x\":0.05},\"mapbox\":{\"style\":\"light\"}}},\"xaxis\":{\"anchor\":\"y\",\"domain\":[0.0,1.0],\"title\":{\"text\":\"Overall_Rating\"}},\"yaxis\":{\"anchor\":\"x\",\"domain\":[0.0,1.0],\"title\":{\"text\":\"count\"}},\"legend\":{\"tracegroupgap\":0},\"margin\":{\"t\":60},\"barmode\":\"relative\",\"title\":{\"text\":\"Overall_Rating\"}},                        {\"responsive\": true}                    ).then(function(){\n",
       "                            \n",
       "var gd = document.getElementById('9b26d5af-664d-4b54-ab28-9b56b447f1af');\n",
       "var x = new MutationObserver(function (mutations, observer) {{\n",
       "        var display = window.getComputedStyle(gd).display;\n",
       "        if (!display || display === 'none') {{\n",
       "            console.log([gd, 'removed!']);\n",
       "            Plotly.purge(gd);\n",
       "            observer.disconnect();\n",
       "        }}\n",
       "}});\n",
       "\n",
       "// Listen for the removal of the full notebook cells\n",
       "var notebookContainer = gd.closest('#notebook-container');\n",
       "if (notebookContainer) {{\n",
       "    x.observe(notebookContainer, {childList: true});\n",
       "}}\n",
       "\n",
       "// Listen for the clearing of the current output cell\n",
       "var outputEl = gd.closest('.output');\n",
       "if (outputEl) {{\n",
       "    x.observe(outputEl, {childList: true});\n",
       "}}\n",
       "\n",
       "                        })                };                });            </script>        </div>"
      ]
     },
     "metadata": {},
     "output_type": "display_data"
    }
   ],
   "source": [
    "fig = px.histogram(data, x=\"Overall_Rating\")\n",
    "fig.update_layout(title_text='Overall_Rating')\n",
    "fig.show()"
   ]
  },
  {
   "cell_type": "code",
   "execution_count": 9,
   "id": "532a9629",
   "metadata": {
    "execution": {
     "iopub.execute_input": "2023-08-19T10:58:45.596198Z",
     "iopub.status.busy": "2023-08-19T10:58:45.595846Z",
     "iopub.status.idle": "2023-08-19T10:58:47.604786Z",
     "shell.execute_reply": "2023-08-19T10:58:47.603644Z"
    },
    "papermill": {
     "duration": 2.021587,
     "end_time": "2023-08-19T10:58:47.607217",
     "exception": false,
     "start_time": "2023-08-19T10:58:45.585630",
     "status": "completed"
    },
    "tags": []
   },
   "outputs": [
    {
     "data": {
      "image/png": "[encoded data removed]",
      "text/plain": [
       "<Figure size 640x480 with 1 Axes>"
      ]
     },
     "metadata": {},
     "output_type": "display_data"
    }
   ],
   "source": [
    "import nltk\n",
    "from nltk.corpus import stopwords\n",
    "from wordcloud import WordCloud, STOPWORDS\n",
    "\n",
    "# Create stopword list:\n",
    "stopwords = set(STOPWORDS)\n",
    "stopwords.update([\"br\", \"href\"])\n",
    "textt = \" \".join(review for review in data.Review)\n",
    "wordcloud = WordCloud(stopwords=stopwords).generate(textt)\n",
    "plt.imshow(wordcloud, interpolation='bilinear')\n",
    "plt.axis(\"off\")\n",
    "plt.savefig('wordcloud.png')\n",
    "plt.show()"
   ]
  }
 ],
 "metadata": {
  "kernelspec": {
   "display_name": "Python 3",
   "language": "python",
   "name": "python3"
  },
  "language_info": {
   "codemirror_mode": {
    "name": "ipython",
    "version": 3
   },
   "file_extension": ".py",
   "mimetype": "text/x-python",
   "name": "python",
   "nbconvert_exporter": "python",
   "pygments_lexer": "ipython3",
   "version": "3.10.12"
  },
  "papermill": {
   "default_parameters": {},
   "duration": 16.865544,
   "end_time": "2023-08-19T10:58:48.843007",
   "environment_variables": {},
   "exception": null,
   "input_path": "__notebook__.ipynb",
   "output_path": "__notebook__.ipynb",
   "parameters": {},
   "start_time": "2023-08-19T10:58:31.977463",
   "version": "2.4.0"
  }
 },
 "nbformat": 4,
 "nbformat_minor": 5
}
