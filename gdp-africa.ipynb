{
 "cells": [
  {
   "cell_type": "code",
   "execution_count": 1,
   "id": "e305c124",
   "metadata": {
    "_cell_guid": "b1076dfc-b9ad-4769-8c92-a6c4dae69d19",
    "_uuid": "8f2839f25d086af736a60e9eeb907d3b93b6e0e5",
    "execution": {
     "iopub.execute_input": "2023-08-16T07:28:23.056520Z",
     "iopub.status.busy": "2023-08-16T07:28:23.056005Z",
     "iopub.status.idle": "2023-08-16T07:28:23.074893Z",
     "shell.execute_reply": "2023-08-16T07:28:23.073632Z"
    },
    "papermill": {
     "duration": 0.027193,
     "end_time": "2023-08-16T07:28:23.077306",
     "exception": false,
     "start_time": "2023-08-16T07:28:23.050113",
     "status": "completed"
    },
    "tags": []
   },
   "outputs": [
    {
     "name": "stdout",
     "output_type": "stream",
     "text": [
      "/kaggle/input/population-and-gdp-africa/Data_Africa.csv\n"
     ]
    }
   ],
   "source": [
    "# This Python 3 environment comes with many helpful analytics libraries installed\n",
    "# It is defined by the kaggle/python Docker image: https://github.com/kaggle/docker-python\n",
    "# For example, here's several helpful packages to load\n",
    "\n",
    "import numpy as np # linear algebra\n",
    "import pandas as pd # data processing, CSV file I/O (e.g. pd.read_csv)\n",
    "\n",
    "# Input data files are available in the read-only \"../input/\" directory\n",
    "# For example, running this (by clicking run or pressing Shift+Enter) will list all files under the input directory\n",
    "\n",
    "import os\n",
    "for dirname, _, filenames in os.walk('/kaggle/input'):\n",
    "    for filename in filenames:\n",
    "        print(os.path.join(dirname, filename))\n",
    "\n",
    "# You can write up to 20GB to the current directory (/kaggle/working/) that gets preserved as output when you create a version using \"Save & Run All\" \n",
    "# You can also write temporary files to /kaggle/temp/, but they won't be saved outside of the current session"
   ]
  },
  {
   "cell_type": "code",
   "execution_count": 2,
   "id": "0d49f96f",
   "metadata": {
    "execution": {
     "iopub.execute_input": "2023-08-16T07:28:23.087105Z",
     "iopub.status.busy": "2023-08-16T07:28:23.086722Z",
     "iopub.status.idle": "2023-08-16T07:28:24.653051Z",
     "shell.execute_reply": "2023-08-16T07:28:24.651913Z"
    },
    "papermill": {
     "duration": 1.574799,
     "end_time": "2023-08-16T07:28:24.656045",
     "exception": false,
     "start_time": "2023-08-16T07:28:23.081246",
     "status": "completed"
    },
    "tags": []
   },
   "outputs": [
    {
     "name": "stderr",
     "output_type": "stream",
     "text": [
      "/opt/conda/lib/python3.10/site-packages/scipy/__init__.py:146: UserWarning: A NumPy version >=1.16.5 and <1.23.0 is required for this version of SciPy (detected version 1.23.5\n",
      "  warnings.warn(f\"A NumPy version >={np_minversion} and <{np_maxversion}\"\n"
     ]
    }
   ],
   "source": [
    "import matplotlib.pyplot as plt\n",
    "import seaborn as sns\n",
    "sns.set()"
   ]
  },
  {
   "cell_type": "code",
   "execution_count": 3,
   "id": "573a5968",
   "metadata": {
    "execution": {
     "iopub.execute_input": "2023-08-16T07:28:24.666425Z",
     "iopub.status.busy": "2023-08-16T07:28:24.665439Z",
     "iopub.status.idle": "2023-08-16T07:28:24.689237Z",
     "shell.execute_reply": "2023-08-16T07:28:24.688208Z"
    },
    "papermill": {
     "duration": 0.031877,
     "end_time": "2023-08-16T07:28:24.691848",
     "exception": false,
     "start_time": "2023-08-16T07:28:24.659971",
     "status": "completed"
    },
    "tags": []
   },
   "outputs": [],
   "source": [
    "raw_data = pd.read_csv('/kaggle/input/population-and-gdp-africa/Data_Africa.csv')"
   ]
  },
  {
   "cell_type": "code",
   "execution_count": 4,
   "id": "b5e4b3c6",
   "metadata": {
    "execution": {
     "iopub.execute_input": "2023-08-16T07:28:24.701154Z",
     "iopub.status.busy": "2023-08-16T07:28:24.700496Z",
     "iopub.status.idle": "2023-08-16T07:28:24.723496Z",
     "shell.execute_reply": "2023-08-16T07:28:24.722508Z"
    },
    "papermill": {
     "duration": 0.029934,
     "end_time": "2023-08-16T07:28:24.725559",
     "exception": false,
     "start_time": "2023-08-16T07:28:24.695625",
     "status": "completed"
    },
    "tags": []
   },
   "outputs": [
    {
     "data": {
      "text/html": [
       "<div>\n",
       "<style scoped>\n",
       "    .dataframe tbody tr th:only-of-type {\n",
       "        vertical-align: middle;\n",
       "    }\n",
       "\n",
       "    .dataframe tbody tr th {\n",
       "        vertical-align: top;\n",
       "    }\n",
       "\n",
       "    .dataframe thead th {\n",
       "        text-align: right;\n",
       "    }\n",
       "</style>\n",
       "<table border=\"1\" class=\"dataframe\">\n",
       "  <thead>\n",
       "    <tr style=\"text-align: right;\">\n",
       "      <th></th>\n",
       "      <th>ID</th>\n",
       "      <th>Year</th>\n",
       "      <th>Country</th>\n",
       "      <th>Continent</th>\n",
       "      <th>Population</th>\n",
       "      <th>GDP (USD)</th>\n",
       "    </tr>\n",
       "  </thead>\n",
       "  <tbody>\n",
       "    <tr>\n",
       "      <th>0</th>\n",
       "      <td>1</td>\n",
       "      <td>2000</td>\n",
       "      <td>Uganda</td>\n",
       "      <td>East Africa</td>\n",
       "      <td>23303189</td>\n",
       "      <td>6.193247e+09</td>\n",
       "    </tr>\n",
       "    <tr>\n",
       "      <th>1</th>\n",
       "      <td>2</td>\n",
       "      <td>2001</td>\n",
       "      <td>Uganda</td>\n",
       "      <td>East Africa</td>\n",
       "      <td>24022603</td>\n",
       "      <td>5.840504e+09</td>\n",
       "    </tr>\n",
       "    <tr>\n",
       "      <th>2</th>\n",
       "      <td>3</td>\n",
       "      <td>2002</td>\n",
       "      <td>Uganda</td>\n",
       "      <td>East Africa</td>\n",
       "      <td>24781316</td>\n",
       "      <td>5.840504e+09</td>\n",
       "    </tr>\n",
       "    <tr>\n",
       "      <th>3</th>\n",
       "      <td>4</td>\n",
       "      <td>2003</td>\n",
       "      <td>Uganda</td>\n",
       "      <td>East Africa</td>\n",
       "      <td>25577246</td>\n",
       "      <td>6.606884e+09</td>\n",
       "    </tr>\n",
       "    <tr>\n",
       "      <th>4</th>\n",
       "      <td>5</td>\n",
       "      <td>2004</td>\n",
       "      <td>Uganda</td>\n",
       "      <td>East Africa</td>\n",
       "      <td>26403221</td>\n",
       "      <td>7.939488e+09</td>\n",
       "    </tr>\n",
       "  </tbody>\n",
       "</table>\n",
       "</div>"
      ],
      "text/plain": [
       "   ID  Year Country    Continent  Population      GDP (USD)\n",
       "0   1  2000  Uganda  East Africa     23303189  6.193247e+09\n",
       "1   2  2001  Uganda  East Africa     24022603  5.840504e+09\n",
       "2   3  2002  Uganda  East Africa     24781316  5.840504e+09\n",
       "3   4  2003  Uganda  East Africa     25577246  6.606884e+09\n",
       "4   5  2004  Uganda  East Africa     26403221  7.939488e+09"
      ]
     },
     "execution_count": 4,
     "metadata": {},
     "output_type": "execute_result"
    }
   ],
   "source": [
    "raw_data.head()"
   ]
  },
  {
   "cell_type": "code",
   "execution_count": 5,
   "id": "c80d1632",
   "metadata": {
    "execution": {
     "iopub.execute_input": "2023-08-16T07:28:24.736397Z",
     "iopub.status.busy": "2023-08-16T07:28:24.735659Z",
     "iopub.status.idle": "2023-08-16T07:28:24.739967Z",
     "shell.execute_reply": "2023-08-16T07:28:24.739204Z"
    },
    "papermill": {
     "duration": 0.012436,
     "end_time": "2023-08-16T07:28:24.742103",
     "exception": false,
     "start_time": "2023-08-16T07:28:24.729667",
     "status": "completed"
    },
    "tags": []
   },
   "outputs": [],
   "source": [
    "data = raw_data.copy()"
   ]
  },
  {
   "cell_type": "code",
   "execution_count": 6,
   "id": "36460241",
   "metadata": {
    "execution": {
     "iopub.execute_input": "2023-08-16T07:28:24.752112Z",
     "iopub.status.busy": "2023-08-16T07:28:24.751397Z",
     "iopub.status.idle": "2023-08-16T07:28:24.761293Z",
     "shell.execute_reply": "2023-08-16T07:28:24.760162Z"
    },
    "papermill": {
     "duration": 0.017497,
     "end_time": "2023-08-16T07:28:24.763616",
     "exception": false,
     "start_time": "2023-08-16T07:28:24.746119",
     "status": "completed"
    },
    "tags": []
   },
   "outputs": [
    {
     "data": {
      "text/plain": [
       "array(['Uganda', 'Burundi', 'Djibouti', 'Zambia', 'Zimbabwe', 'Kenya',\n",
       "       'Union of the Comors', 'Mauritius', 'Madagascar', 'Mayotte',\n",
       "       'Malawi', 'Mozambique', 'Reunion', 'Rwanda', 'Seyshelles',\n",
       "       'Somalia', 'Tanzania', 'Eritrea', 'Ethiopia', 'South Sudan',\n",
       "       'Sudan', 'Algeria', 'Egypt', 'SADR', 'Libya', 'Morocco', 'Tunisia',\n",
       "       'Botswana', 'Lesotho', 'Namibia', 'Eswatini', 'South Africa',\n",
       "       'Angola', 'Gabon', 'Cameroon', 'Democratic Republic of the Congo',\n",
       "       'Republic of the Congo', 'Sao Tome and Principe',\n",
       "       'Central African Republic', 'Chad', 'Equatorial Guinea', 'Benin',\n",
       "       'Burkina Faso', 'Gambia', 'Ghana', 'Guinea', 'Guinea-Bissau',\n",
       "       'Cape Verde', 'Ivory Coast', 'Liberia', 'Mauritania', 'Mali',\n",
       "       'Niger', 'Nigeria', 'Saint Helena, Ascension and Tristan da Cunha',\n",
       "       'Senegal', 'Sierra Leone', 'Togo'], dtype=object)"
      ]
     },
     "execution_count": 6,
     "metadata": {},
     "output_type": "execute_result"
    }
   ],
   "source": [
    "data['Country'].unique()"
   ]
  },
  {
   "cell_type": "code",
   "execution_count": 7,
   "id": "12942825",
   "metadata": {
    "execution": {
     "iopub.execute_input": "2023-08-16T07:28:24.773193Z",
     "iopub.status.busy": "2023-08-16T07:28:24.772779Z",
     "iopub.status.idle": "2023-08-16T07:28:24.780255Z",
     "shell.execute_reply": "2023-08-16T07:28:24.779389Z"
    },
    "papermill": {
     "duration": 0.015299,
     "end_time": "2023-08-16T07:28:24.782923",
     "exception": false,
     "start_time": "2023-08-16T07:28:24.767624",
     "status": "completed"
    },
    "tags": []
   },
   "outputs": [
    {
     "data": {
      "text/plain": [
       "array(['East Africa', 'North Africa', 'South Africa', 'Central Africa',\n",
       "       'West Africa'], dtype=object)"
      ]
     },
     "execution_count": 7,
     "metadata": {},
     "output_type": "execute_result"
    }
   ],
   "source": [
    "data['Continent'].unique()"
   ]
  },
  {
   "cell_type": "code",
   "execution_count": 8,
   "id": "ec708f6d",
   "metadata": {
    "execution": {
     "iopub.execute_input": "2023-08-16T07:28:24.793992Z",
     "iopub.status.busy": "2023-08-16T07:28:24.793311Z",
     "iopub.status.idle": "2023-08-16T07:28:24.804138Z",
     "shell.execute_reply": "2023-08-16T07:28:24.802989Z"
    },
    "papermill": {
     "duration": 0.019348,
     "end_time": "2023-08-16T07:28:24.806533",
     "exception": false,
     "start_time": "2023-08-16T07:28:24.787185",
     "status": "completed"
    },
    "tags": []
   },
   "outputs": [
    {
     "data": {
      "text/plain": [
       "array([2000, 2001, 2002, 2003, 2004, 2005, 2006, 2007, 2008, 2009, 2010,\n",
       "       2011, 2012, 2013, 2014, 2015, 2016, 2017, 2018, 2019, 2020, 2021,\n",
       "       2022])"
      ]
     },
     "execution_count": 8,
     "metadata": {},
     "output_type": "execute_result"
    }
   ],
   "source": [
    "data['Year'].unique()"
   ]
  },
  {
   "cell_type": "code",
   "execution_count": 9,
   "id": "3d90fbf2",
   "metadata": {
    "execution": {
     "iopub.execute_input": "2023-08-16T07:28:24.817342Z",
     "iopub.status.busy": "2023-08-16T07:28:24.816696Z",
     "iopub.status.idle": "2023-08-16T07:28:24.829213Z",
     "shell.execute_reply": "2023-08-16T07:28:24.828124Z"
    },
    "papermill": {
     "duration": 0.020918,
     "end_time": "2023-08-16T07:28:24.831779",
     "exception": false,
     "start_time": "2023-08-16T07:28:24.810861",
     "status": "completed"
    },
    "tags": []
   },
   "outputs": [
    {
     "data": {
      "text/plain": [
       "ID               0\n",
       "Year             0\n",
       "Country          0\n",
       "Continent        0\n",
       "Population       0\n",
       "GDP (USD)      155\n",
       "dtype: int64"
      ]
     },
     "execution_count": 9,
     "metadata": {},
     "output_type": "execute_result"
    }
   ],
   "source": [
    "data.isnull().sum()"
   ]
  },
  {
   "cell_type": "code",
   "execution_count": 10,
   "id": "3acff7c1",
   "metadata": {
    "execution": {
     "iopub.execute_input": "2023-08-16T07:28:24.842749Z",
     "iopub.status.busy": "2023-08-16T07:28:24.842341Z",
     "iopub.status.idle": "2023-08-16T07:28:24.851612Z",
     "shell.execute_reply": "2023-08-16T07:28:24.850489Z"
    },
    "papermill": {
     "duration": 0.018533,
     "end_time": "2023-08-16T07:28:24.854832",
     "exception": false,
     "start_time": "2023-08-16T07:28:24.836299",
     "status": "completed"
    },
    "tags": []
   },
   "outputs": [],
   "source": [
    "row_with_missing = data[data['GDP (USD)'].isnull()]"
   ]
  },
  {
   "cell_type": "code",
   "execution_count": 11,
   "id": "751f928c",
   "metadata": {
    "execution": {
     "iopub.execute_input": "2023-08-16T07:28:24.866235Z",
     "iopub.status.busy": "2023-08-16T07:28:24.865472Z",
     "iopub.status.idle": "2023-08-16T07:28:24.872959Z",
     "shell.execute_reply": "2023-08-16T07:28:24.871835Z"
    },
    "papermill": {
     "duration": 0.015725,
     "end_time": "2023-08-16T07:28:24.875254",
     "exception": false,
     "start_time": "2023-08-16T07:28:24.859529",
     "status": "completed"
    },
    "tags": []
   },
   "outputs": [
    {
     "data": {
      "text/plain": [
       "array(['Mayotte', 'Reunion', 'Somalia', 'Eritrea', 'South Sudan', 'SADR',\n",
       "       'Sao Tome and Principe', 'Ivory Coast',\n",
       "       'Saint Helena, Ascension and Tristan da Cunha'], dtype=object)"
      ]
     },
     "execution_count": 11,
     "metadata": {},
     "output_type": "execute_result"
    }
   ],
   "source": [
    "row_with_missing['Country'].unique()"
   ]
  },
  {
   "cell_type": "code",
   "execution_count": null,
   "id": "180b5855",
   "metadata": {
    "papermill": {
     "duration": 0.004279,
     "end_time": "2023-08-16T07:28:24.884064",
     "exception": false,
     "start_time": "2023-08-16T07:28:24.879785",
     "status": "completed"
    },
    "tags": []
   },
   "outputs": [],
   "source": []
  }
 ],
 "metadata": {
  "kernelspec": {
   "display_name": "Python 3",
   "language": "python",
   "name": "python3"
  },
  "language_info": {
   "codemirror_mode": {
    "name": "ipython",
    "version": 3
   },
   "file_extension": ".py",
   "mimetype": "text/x-python",
   "name": "python",
   "nbconvert_exporter": "python",
   "pygments_lexer": "ipython3",
   "version": "3.10.12"
  },
  "papermill": {
   "default_parameters": {},
   "duration": 13.397886,
   "end_time": "2023-08-16T07:28:25.811743",
   "environment_variables": {},
   "exception": null,
   "input_path": "__notebook__.ipynb",
   "output_path": "__notebook__.ipynb",
   "parameters": {},
   "start_time": "2023-08-16T07:28:12.413857",
   "version": "2.4.0"
  }
 },
 "nbformat": 4,
 "nbformat_minor": 5
}
